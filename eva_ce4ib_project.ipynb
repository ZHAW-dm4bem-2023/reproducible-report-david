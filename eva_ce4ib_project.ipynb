{
 "cells": [
  {
   "cell_type": "markdown",
   "id": "35a53b91-f1eb-4c06-983f-3aaa32ac5a87",
   "metadata": {
    "tags": []
   },
   "source": [
    "# Project Report EVA_CE4IB\n",
    "\n",
    "| | |\n",
    "| --- | --- |\n",
    "| Author | David Kempf |\n",
    "| Professor | Christian Ghiaus |\n",
    "| Date | January 11, 2024 |"
   ]
  },
  {
   "cell_type": "markdown",
   "id": "dd09d492-4c1d-422d-9a88-55f8631e5836",
   "metadata": {
    "tags": []
   },
   "source": [
    "# Problem\n",
    "In the following, the problem statement and a hypothesis are formulated and the model is presented.\n",
    "\n",
    "This project focuses on a building located in St. Gallen which is in need of renovation regarding its envelope (improvement energy balance etc.). Since the renovation cannot be carried out from the outer side, an alternative approach has been brought forward by Beat Kegel which comprises putting up insulation planes from the inside on the cealings of rooms corresponding to the thermal bridges.\n",
    "\n",
    "The hypothesis states that by choosing suitable dimensions and locations for the mentioned insulation plates inside the (exterior) rooms it is possible to achieve a similar insulation effect as if a new layer of insulation would be applied from the outside. After developing an appropriate model, the ultimate goal is to find dimensions and locations that confirm the hypothesis.\n",
    "\n",
    "Figure 1 presents the simple scheme of a thermal zone (room) lied towards the outside of the building that will be used as the basis for the model to be employed.\n",
    "\n",
    "![Scheme of thermal zone used as the basis for the model](./figures/building_plan_v42.png)\n",
    "> Figure 1. A ventilated thermal zone enclosed by 5 walls and a sixth one containing a glass window.\n",
    "\n",
    "In figure 2, the thermal network for this thermal zone is displayed. It considers solar radiation on the walls and glass window and ventilation.\n",
    "\n",
    "![Thermal network of thermal zone](./figures/thermal_circuit_v42.png)\n",
    "> Figure 2. The thermal network of the thermal zone considering solar radiation, ventilation and setpoint temperatures in adjacent thermal zones (rooms)."
   ]
  },
  {
   "cell_type": "markdown",
   "id": "1dfabadb-4c89-49a7-972c-1e4a3681b8cc",
   "metadata": {},
   "source": [
    "## Model"
   ]
  },
  {
   "cell_type": "markdown",
   "id": "1c10444c-47a9-4f8f-b4ba-4baad06f156a",
   "metadata": {
    "tags": []
   },
   "source": [
    "### Imports"
   ]
  },
  {
   "cell_type": "code",
   "execution_count": 1,
   "id": "764b77e2-3f93-4484-9842-6b328305d517",
   "metadata": {},
   "outputs": [],
   "source": [
    "import numpy as np\n",
    "import pandas as pd\n",
    "import matplotlib.pyplot as mpl\n",
    "\n",
    "import dm4bem"
   ]
  },
  {
   "cell_type": "markdown",
   "id": "d101012e-cfec-4e3d-9268-03e8cc68fceb",
   "metadata": {
    "tags": []
   },
   "source": [
    "### Dimensions and surface areas of thermal zone"
   ]
  },
  {
   "cell_type": "code",
   "execution_count": 2,
   "id": "e81f680f-dfcf-42a7-95f0-25869b407aee",
   "metadata": {},
   "outputs": [
    {
     "name": "stdout",
     "output_type": "stream",
     "text": [
      "Shorter wall edge length: 2.5\n",
      "Longer wall edge length: 2.5\n",
      "Shorter wall edge length window fraction: 0.3\n",
      "\n",
      "Shorter insulation plate edge length: 0.5\n",
      "Longer insulation plate edge length: 0.5\n",
      "\n",
      "Wall surface area: 35.625\n",
      "Insulation surface area: 1.5\n",
      "Window surface area: 1.875\n"
     ]
    }
   ],
   "source": [
    "# Lengths of the walls - w_l\n",
    "shorter_wall_edge_length = 2.5\n",
    "longer_wall_edge_length = shorter_wall_edge_length\n",
    "\n",
    "# This fraction assumes that the \"shorter wall edge length\" is really the\n",
    "# shorter wall edge length. This supports the case of a rectangular shape\n",
    "# of the thermal zone.\n",
    "shorter_wall_edge_length_window_fraction = 0.3\n",
    "\n",
    "# Lengths of the insulation plate(s) - i_l\n",
    "shorter_insulation_plate_edge_length = 0.5\n",
    "longer_insulation_plate_edge_length = shorter_insulation_plate_edge_length\n",
    "\n",
    "# Surface areas of the walls, the glass window and the insulation plate(s)\n",
    "wall_surface_area = ((4 * shorter_wall_edge_length * longer_wall_edge_length) + shorter_wall_edge_length**2 # S_w\n",
    "                     + (shorter_wall_edge_length**2 * (1 - shorter_wall_edge_length_window_fraction)))\n",
    "insulation_plate_surface_area = ((4 * shorter_insulation_plate_edge_length * longer_insulation_plate_edge_length) # S_i\n",
    "                                 + 2 * shorter_insulation_plate_edge_length**2)\n",
    "window_surface_area = shorter_wall_edge_length**2 * shorter_wall_edge_length_window_fraction \n",
    "\n",
    "print(f'Shorter wall edge length: {shorter_wall_edge_length}')\n",
    "print(f'Longer wall edge length: {longer_wall_edge_length}')\n",
    "print(f'Shorter wall edge length window fraction: {shorter_wall_edge_length_window_fraction}')\n",
    "print()\n",
    "print(f'Shorter insulation plate edge length: {shorter_insulation_plate_edge_length}')\n",
    "print(f'Longer insulation plate edge length: {longer_insulation_plate_edge_length}')\n",
    "print()\n",
    "print(f'Wall surface area: {wall_surface_area}')\n",
    "print(f'Insulation surface area: {insulation_plate_surface_area}')\n",
    "print(f'Window surface area: {window_surface_area}')"
   ]
  },
  {
   "cell_type": "markdown",
   "id": "04249e0b-1f3d-47f5-b8f7-024135cda83b",
   "metadata": {},
   "source": [
    "### Thermo-physical properties"
   ]
  },
  {
   "cell_type": "code",
   "execution_count": 3,
   "id": "6b636b8a-a7af-4ebe-9eee-578dea6f7742",
   "metadata": {},
   "outputs": [
    {
     "name": "stdout",
     "output_type": "stream",
     "text": [
      "Air properties:\n",
      "\n",
      "     Density  Specific heat\n",
      "Air      1.2           1000\n",
      "\n",
      "Wall properties:\n",
      "\n",
      "               Conductivity  Density  Specific heat  Width  Surface\n",
      "Outside_layer         1.400   2300.0            880  0.150   35.625\n",
      "Inside_layer          0.025     50.0           1210  0.025    1.500\n",
      "Window                1.400   2500.0           1210  0.040    1.875\n"
     ]
    }
   ],
   "source": [
    "# Thermo-physical properties in SI units\n",
    "air_properties = {'Density': 1.2, # kg/m^3\n",
    "                  'Specific heat': 1000} # J/(kg*K)\n",
    "\n",
    "wall_properties = {'Conductivity': 1.400,\n",
    "                   'Density': 2300.0, # kg/m3\n",
    "                   'Specific heat': 880, # J/(kg*K)\n",
    "                   'Width': 0.15, # m\n",
    "                   'Surface': wall_surface_area} # m^2\n",
    "\n",
    "insulation_plate_properties = {'Conductivity': 0.025,\n",
    "                               'Density': 50.0,\n",
    "                               'Specific heat': 1210,\n",
    "                               'Width': 0.025,\n",
    "                               'Surface': insulation_plate_surface_area}\n",
    "\n",
    "window_properties = {'Conductivity': 1.4,\n",
    "                     'Density': 2500,\n",
    "                     'Specific heat': 1210,\n",
    "                     'Width': 0.04,\n",
    "                     'Surface': window_surface_area}\n",
    "\n",
    "wall_properties = pd.DataFrame.from_dict({'Outside_layer': wall_properties,\n",
    "                                          'Inside_layer': insulation_plate_properties,\n",
    "                                          'Window': window_properties},\n",
    "                                          orient='index')\n",
    "\n",
    "print('Air properties:')\n",
    "print()\n",
    "print(pd.DataFrame(air_properties, index=['Air']))\n",
    "print()\n",
    "print('Wall properties:')\n",
    "print()\n",
    "print(wall_properties)"
   ]
  },
  {
   "cell_type": "markdown",
   "id": "30e10ea7-83eb-4a06-889e-d1c83b617b14",
   "metadata": {},
   "source": [
    "### Radiative properties"
   ]
  },
  {
   "cell_type": "code",
   "execution_count": 4,
   "id": "415dff20-125d-4988-b863-90e17919f217",
   "metadata": {},
   "outputs": [
    {
     "name": "stdout",
     "output_type": "stream",
     "text": [
      "Long wave wall emmisivity: 0.85\n",
      "Long wave window emmisivityy: 0.9\n",
      "Short wave white smooth surface absortivity: 0.25\n",
      "Short wave reflective blue window absortivity: 0.38\n",
      "Short wave reflective blue window transmittance: 0.3\n",
      "Stephan-Boltzmann constant: 5.67e-08\n"
     ]
    }
   ],
   "source": [
    "long_wave_wall_emmisivity = 0.85 # ε_wLW\n",
    "long_wave_window_emmisivity = 0.90 # ε_gLW\n",
    "short_wave_white_smooth_surface_absortivity = 0.25 # α_wSW\n",
    "short_wave_reflective_blue_window_absortivity = 0.38 # α_gSW\n",
    "short_wave_reflective_blue_window_transmittance = 0.30 # τ_gSW\n",
    "\n",
    "stephan_boltzmann_constant = 5.67e-8 # σ, W/(m²⋅K⁴)\n",
    "\n",
    "print(f'Long wave wall emmisivity: {long_wave_wall_emmisivity}')\n",
    "print(f'Long wave window emmisivityy: {long_wave_window_emmisivity}')\n",
    "print(f'Short wave white smooth surface absortivity: {short_wave_white_smooth_surface_absortivity}')\n",
    "print(f'Short wave reflective blue window absortivity: {short_wave_reflective_blue_window_absortivity}')\n",
    "print(f'Short wave reflective blue window transmittance: {short_wave_reflective_blue_window_transmittance}')\n",
    "print(f'Stephan-Boltzmann constant: {stephan_boltzmann_constant}')"
   ]
  },
  {
   "cell_type": "markdown",
   "id": "466314ca-35c9-4327-9ac5-e412f760baed",
   "metadata": {},
   "source": [
    "### Convection coefficients"
   ]
  },
  {
   "cell_type": "code",
   "execution_count": 5,
   "id": "c77bc614-0b91-4d45-93b6-8562947255de",
   "metadata": {},
   "outputs": [
    {
     "name": "stdout",
     "output_type": "stream",
     "text": [
      "    In  Out\n",
      "h  8.0   25\n"
     ]
    }
   ],
   "source": [
    "convection_coefficients = pd.DataFrame([{'In': 8., 'Out': 25}], index=['h']) # W/(m2*K), h\n",
    "\n",
    "print(convection_coefficients)"
   ]
  },
  {
   "cell_type": "markdown",
   "id": "f9d26e29-d409-489b-be0c-2cf85b25b1ca",
   "metadata": {},
   "source": [
    "### Thermal network"
   ]
  },
  {
   "cell_type": "markdown",
   "id": "43578cf8-b56e-40f4-a37c-09ddd1f72e18",
   "metadata": {},
   "source": [
    "#### General variables"
   ]
  },
  {
   "cell_type": "code",
   "execution_count": 6,
   "id": "1e59730d-681f-4e9a-8ad0-29fe24d972ba",
   "metadata": {
    "tags": []
   },
   "outputs": [
    {
     "name": "stdout",
     "output_type": "stream",
     "text": [
      "Number of branches: 36\n",
      "Number of nodes: 25\n",
      "Number of temperature sources: 9\n",
      "Number of heat flow rate sources: 5\n"
     ]
    }
   ],
   "source": [
    "# Number of branches equals number of conductances.\n",
    "number_of_branches = 36 # 25\n",
    "number_of_nodes = 25 # 18\n",
    "\n",
    "number_of_temperature_sources = 9 # 8\n",
    "number_of_heat_flow_rate_sources = 5 # 0\n",
    "\n",
    "print(f'Number of branches: {number_of_branches}')\n",
    "print(f'Number of nodes: {number_of_nodes}')\n",
    "print(f'Number of temperature sources: {number_of_temperature_sources}')\n",
    "print(f'Number of heat flow rate sources: {number_of_heat_flow_rate_sources}')\n",
    "\n",
    "#temperature_sources = np.zeros(number_of_temperature_sources)\n",
    "#temperature_sources[0:4] = 15 # Slicing end index is exclusive.\n",
    "#temperature_sources[4:8] = 24 # Slicing end index is exclusive.\n",
    "#heat_flow_rate_sources[] = \n",
    "\n",
    "#temperature_sources"
   ]
  },
  {
   "cell_type": "markdown",
   "id": "3d80e066-38d0-4ca2-b193-0a9f06c26499",
   "metadata": {
    "tags": []
   },
   "source": [
    "#### Thermal conductances"
   ]
  },
  {
   "cell_type": "markdown",
   "id": "c92e1aa0-b0e3-4d44-a86d-36d00026f98e",
   "metadata": {},
   "source": [
    "##### Conduction"
   ]
  },
  {
   "cell_type": "code",
   "execution_count": 7,
   "id": "23b6045b-18c2-4598-8c3b-a3e95e9fe541",
   "metadata": {},
   "outputs": [
    {
     "name": "stdout",
     "output_type": "stream",
     "text": [
      "               Conductance\n",
      "Outside_layer      332.500\n",
      "Inside_layer         1.500\n",
      "Window              65.625\n"
     ]
    }
   ],
   "source": [
    "conduction_conductances = wall_properties['Conductivity'] / wall_properties['Width'] * wall_properties['Surface'] # G_cd\n",
    "\n",
    "print(pd.DataFrame(conduction_conductances, columns=['Conductance']))"
   ]
  },
  {
   "cell_type": "markdown",
   "id": "58c9a68d-ff08-45bf-913a-814fc9aa0f79",
   "metadata": {
    "tags": []
   },
   "source": [
    "##### Convection"
   ]
  },
  {
   "cell_type": "code",
   "execution_count": 8,
   "id": "3df65dcd-7962-42f5-80f2-e71d4cbc6486",
   "metadata": {},
   "outputs": [
    {
     "name": "stdout",
     "output_type": "stream",
     "text": [
      "Wall convection conductances:\n",
      "\n",
      "      In      Out\n",
      "h  285.0  890.625\n",
      "\n",
      "Window convection conductances:\n",
      "\n",
      "     In     Out\n",
      "h  15.0  46.875\n"
     ]
    }
   ],
   "source": [
    "wall_convection_conductances = convection_coefficients * wall_properties['Surface'][0] # G_w\n",
    "window_convection_conductances = convection_coefficients * wall_properties['Surface'][2] # G_g\n",
    "\n",
    "print('Wall convection conductances:')\n",
    "print()\n",
    "print(wall_convection_conductances)\n",
    "print()\n",
    "print('Window convection conductances:')\n",
    "print()\n",
    "print(window_convection_conductances)"
   ]
  },
  {
   "cell_type": "markdown",
   "id": "b800939e-8a50-45f9-83ef-e5cc98fe7c63",
   "metadata": {
    "tags": []
   },
   "source": [
    "##### Long wave radiation"
   ]
  },
  {
   "cell_type": "markdown",
   "id": "ee061ef7-5018-4a5c-a583-3c2b53f25807",
   "metadata": {
    "tags": []
   },
   "source": [
    "###### View factors inside the building"
   ]
  },
  {
   "cell_type": "code",
   "execution_count": 9,
   "id": "728db6f6-aa01-4f5c-8cae-6e3fd8a3ddc4",
   "metadata": {},
   "outputs": [
    {
     "name": "stdout",
     "output_type": "stream",
     "text": [
      "Wall to window view factor:\n",
      "\n",
      "1.25\n"
     ]
    }
   ],
   "source": [
    "wall_to_window_view_factor = window_properties['Surface'] / wall_properties['Surface']['Inside_layer'] # F_wg\n",
    "\n",
    "print('Wall to window view factor:')\n",
    "print()\n",
    "print(wall_to_window_view_factor)"
   ]
  },
  {
   "cell_type": "markdown",
   "id": "b9f00e69-9bae-4b7e-bf1d-afddce3c206a",
   "metadata": {},
   "source": [
    "###### View factor between tilted outdoor walls and sky"
   ]
  },
  {
   "cell_type": "markdown",
   "id": "6b226466-40de-4678-9673-fec8a811b873",
   "metadata": {
    "tags": []
   },
   "source": [
    "###### Thermal network for long wave radiation"
   ]
  },
  {
   "cell_type": "code",
   "execution_count": 10,
   "id": "f911a20f-4e20-43b3-aa72-a7e329a0b951",
   "metadata": {},
   "outputs": [
    {
     "name": "stdout",
     "output_type": "stream",
     "text": [
      "Radiative exchange mean temperature: 293\n",
      "Radiation conductance 1: 48.4914127446\n",
      "\n",
      "Radiation conductance 12:\n",
      "\n",
      "10.69663516425\n",
      "\n",
      "Radiation conductance 2: 96.26971647825003\n",
      "\n",
      "Long wave radiation wall window:\n",
      "\n",
      "8.032319902479754\n"
     ]
    }
   ],
   "source": [
    "radiative_exchange_mean_temperature = 20 + 273 # K, T_m\n",
    "\n",
    "radiation_conductance_1 = (4 * stephan_boltzmann_constant * radiative_exchange_mean_temperature**3 * long_wave_wall_emmisivity # G_LW1\n",
    "                           / (1 - long_wave_wall_emmisivity) * wall_properties['Surface']['Inside_layer'])\n",
    "radiation_conductance_12 = (4 * stephan_boltzmann_constant * radiative_exchange_mean_temperature**3 * wall_to_window_view_factor # G_LW12\n",
    "                            * wall_properties['Surface']['Inside_layer'])\n",
    "radiation_conductance_2 = (4 * stephan_boltzmann_constant * radiative_exchange_mean_temperature**3 * long_wave_window_emmisivity # G_LW2\n",
    "                           / (1 - long_wave_window_emmisivity) * wall_properties['Surface']['Window'])\n",
    "\n",
    "long_wave_radiation_wall_window = 1 / (1 / radiation_conductance_1 + 1 / radiation_conductance_12 + 1 / radiation_conductance_2) # G_LW\n",
    "\n",
    "print(f'Radiative exchange mean temperature: {radiative_exchange_mean_temperature}')\n",
    "print(f'Radiation conductance 1: {radiation_conductance_1}')\n",
    "print()\n",
    "print('Radiation conductance 12:')\n",
    "print()\n",
    "print(radiation_conductance_12)\n",
    "print()\n",
    "print(f'Radiation conductance 2: {radiation_conductance_2}')\n",
    "print()\n",
    "print('Long wave radiation wall window:')\n",
    "print()\n",
    "print(long_wave_radiation_wall_window)"
   ]
  },
  {
   "cell_type": "markdown",
   "id": "bf582ff0-b249-4c75-ac60-07574b741a0a",
   "metadata": {
    "tags": []
   },
   "source": [
    "##### Advection"
   ]
  },
  {
   "cell_type": "code",
   "execution_count": 11,
   "id": "4de7fa16-19de-449b-b932-58a89ad98fb5",
   "metadata": {},
   "outputs": [
    {
     "name": "stdout",
     "output_type": "stream",
     "text": [
      "Thermal zone air volume: 15.625\n",
      "Air changes per hour: 1\n",
      "Air infiltration: 0.004340277777777778\n",
      "Advection conductance: 5.208333333333334\n"
     ]
    }
   ],
   "source": [
    "thermal_zonne_air_volume = shorter_wall_edge_length**2 * longer_wall_edge_length # m³, V_a\n",
    "air_changes_per_hour = 1 # ACH\n",
    "air_infiltration = air_changes_per_hour / 3600 * thermal_zonne_air_volume # m³/s, V_a-dot\n",
    "\n",
    "advection_conductance =  air_properties['Density'] * air_properties['Specific heat'] * air_infiltration # G_v\n",
    "\n",
    "print(f'Thermal zone air volume: {thermal_zonne_air_volume}')\n",
    "print(f'Air changes per hour: {air_changes_per_hour}')\n",
    "print(f'Air infiltration: {air_infiltration}')\n",
    "print(f'Advection conductance: {advection_conductance}')"
   ]
  },
  {
   "cell_type": "markdown",
   "id": "3344af80-e018-4cb2-a01c-de4cc9b967d0",
   "metadata": {
    "tags": []
   },
   "source": [
    "##### Proportional controller"
   ]
  },
  {
   "cell_type": "code",
   "execution_count": 12,
   "id": "b2e864e6-7854-465c-8049-18967065e84f",
   "metadata": {},
   "outputs": [
    {
     "name": "stdout",
     "output_type": "stream",
     "text": [
      "Proportional gain: 0\n"
     ]
    }
   ],
   "source": [
    "proportional_gain = 1e4 # W/K, K_p\n",
    "proportional_gain = 1e-3\n",
    "proportional_gain = 0\n",
    "#proportional_gain = 1e4\n",
    "\n",
    "print(f'Proportional gain: {proportional_gain}')"
   ]
  },
  {
   "cell_type": "markdown",
   "id": "e983632f-041d-4066-a00a-74a2f1bbe18b",
   "metadata": {
    "tags": []
   },
   "source": [
    "##### Conductances in series and/or parallel"
   ]
  },
  {
   "cell_type": "code",
   "execution_count": 13,
   "id": "00673392-3443-4a45-8772-2533b07bfe51",
   "metadata": {},
   "outputs": [
    {
     "name": "stdout",
     "output_type": "stream",
     "text": [
      "Outdoor window half convection conductance and conduction conductance: 34.53947368421053\n"
     ]
    }
   ],
   "source": [
    "outdoor_window_half_convection_conduction_conductance = float(1 / (1 / window_convection_conductances.loc['h', 'Out'] # G_gs\n",
    "                                                                   + 1 / (2 * conduction_conductances['Window'])))\n",
    "\n",
    "print(f'Outdoor window half convection conductance and conduction conductance: {outdoor_window_half_convection_conduction_conductance}')"
   ]
  },
  {
   "cell_type": "markdown",
   "id": "096daa39-110e-4e99-bab0-00dabab6d17b",
   "metadata": {
    "tags": []
   },
   "source": [
    "#### Thermal capacities\n",
    "##### Walls"
   ]
  },
  {
   "cell_type": "code",
   "execution_count": 14,
   "id": "069c5751-493f-46a9-9d62-d415c8c86c36",
   "metadata": {},
   "outputs": [
    {
     "name": "stdout",
     "output_type": "stream",
     "text": [
      "Thermal capacities:\n",
      "\n",
      "Outside_layer    10815750.00\n",
      "Inside_layer         2268.75\n",
      "Window             226875.00\n",
      "dtype: float64\n"
     ]
    }
   ],
   "source": [
    "thermal_capacities = wall_properties['Density'] * wall_properties['Specific heat'] * wall_properties['Surface'] * wall_properties['Width'] # J/kg, C_w\n",
    "\n",
    "print('Thermal capacities:')\n",
    "print()\n",
    "print(thermal_capacities)"
   ]
  },
  {
   "cell_type": "markdown",
   "id": "c2d7d457-941e-43bf-acb5-59598eaec544",
   "metadata": {
    "tags": []
   },
   "source": [
    "##### Air"
   ]
  },
  {
   "cell_type": "code",
   "execution_count": 15,
   "id": "5ad5ddf7-6842-4ad5-adf0-61081c440ef1",
   "metadata": {},
   "outputs": [
    {
     "name": "stdout",
     "output_type": "stream",
     "text": [
      "Thermal capacities:\n",
      "\n",
      "Outside_layer    10815750.00\n",
      "Inside_layer         2268.75\n",
      "Window             226875.00\n",
      "Air                 18750.00\n",
      "dtype: float64\n"
     ]
    }
   ],
   "source": [
    "thermal_capacities['Air'] = air_properties['Density'] * air_properties['Specific heat'] * thermal_zonne_air_volume # J/kg, C_a\n",
    "pd.DataFrame(thermal_capacities, columns=['Capacity'])\n",
    "\n",
    "print('Thermal capacities:')\n",
    "print()\n",
    "print(thermal_capacities)"
   ]
  },
  {
   "cell_type": "markdown",
   "id": "9519c7be-a11b-46cc-b253-c843122e1f8d",
   "metadata": {},
   "source": [
    "#### Temperature sources"
   ]
  },
  {
   "cell_type": "markdown",
   "id": "f12176f0-3744-4a96-8f92-e9253e4d6e34",
   "metadata": {
    "tags": []
   },
   "source": [
    "##### Outdoor air and ground temperature"
   ]
  },
  {
   "cell_type": "markdown",
   "id": "88477ba9-030d-49c5-881a-7457ece60d23",
   "metadata": {},
   "source": [
    "##### Adjacent spaces with controlled temperature"
   ]
  },
  {
   "cell_type": "markdown",
   "id": "5be6f99c-ea56-410b-b123-655dd53a0c8a",
   "metadata": {
    "tags": []
   },
   "source": [
    "##### Setpoint temperature"
   ]
  },
  {
   "cell_type": "markdown",
   "id": "2f59b264-6a45-428e-a9c6-00132387bd75",
   "metadata": {
    "tags": []
   },
   "source": [
    "#### Heat flow rate sources"
   ]
  },
  {
   "cell_type": "markdown",
   "id": "f4e620b1-b31b-4a70-96ea-bc1dc4943707",
   "metadata": {
    "tags": []
   },
   "source": [
    "##### Solar radiation absorbed by the walls"
   ]
  },
  {
   "cell_type": "markdown",
   "id": "2a081593-6450-4c0b-b25f-929368727023",
   "metadata": {
    "tags": []
   },
   "source": [
    "###### External wall"
   ]
  },
  {
   "cell_type": "markdown",
   "id": "40f0cfba-4376-4ad5-a5ce-e9a046226a00",
   "metadata": {
    "tags": []
   },
   "source": [
    "###### Internal walls"
   ]
  },
  {
   "cell_type": "markdown",
   "id": "d54a34b9-8ca8-4459-8d61-0d607f7cec80",
   "metadata": {},
   "source": [
    "##### Internal sources"
   ]
  },
  {
   "cell_type": "markdown",
   "id": "280f3874-77eb-4ec4-bc02-b98a4625f9e3",
   "metadata": {
    "tags": []
   },
   "source": [
    "### System of algebraic-differential equations (DAE)"
   ]
  },
  {
   "cell_type": "markdown",
   "id": "e0eeaa18-4cbb-4ac3-b7e9-98b3edbb863f",
   "metadata": {},
   "source": [
    "#### A: incidence matrix"
   ]
  },
  {
   "cell_type": "code",
   "execution_count": 16,
   "id": "beaddf90-558e-45e4-a912-f5db92f2430a",
   "metadata": {},
   "outputs": [
    {
     "name": "stdout",
     "output_type": "stream",
     "text": [
      "Incidence matrix:\n",
      "\n",
      "[[ 1.  0.  0.  0.  0.  0.  0.  0.  0.  0.  0.  0.  0.  0.  0.  0.  0.  0.\n",
      "   0.  0.  0.  0.  0.  0.  0.]\n",
      " [-1.  1.  0.  0.  0.  0.  0.  0.  0.  0.  0.  0.  0.  0.  0.  0.  0.  0.\n",
      "   0.  0.  0.  0.  0.  0.  0.]\n",
      " [ 0. -1.  1.  0.  0.  0.  0.  0.  0.  0.  0.  0.  0.  0.  0.  0.  0.  0.\n",
      "   0.  0.  0.  0.  0.  0.  0.]\n",
      " [ 0.  0.  1. -1.  0.  0.  0.  0.  0.  0.  0.  0.  0.  0.  0.  0.  0.  0.\n",
      "   0.  0.  0.  0.  0.  0.  0.]\n",
      " [ 0.  0.  0.  1.  0.  0.  0.  0.  0.  0.  0.  0.  0.  0.  0.  0.  0.  0.\n",
      "   0.  0.  0.  0.  0.  0.  0.]\n",
      " [ 0. -1.  0.  0.  0.  1.  0.  0.  0.  0.  0.  0.  0.  0.  0.  0.  0.  0.\n",
      "   0.  0.  0.  0.  0.  0.  0.]\n",
      " [ 0.  0.  0.  0.  1.  0.  0.  0.  0.  0.  0.  0.  0.  0.  0.  0.  0.  0.\n",
      "   0.  0.  0.  0.  0.  0.  0.]\n",
      " [ 0.  0.  0.  0. -1.  1.  0.  0.  0.  0.  0.  0.  0.  0.  0.  0.  0.  0.\n",
      "   0.  0.  0.  0.  0.  0.  0.]\n",
      " [ 0.  0.  0.  0.  0. -1.  1.  0.  0.  0.  0.  0.  0.  0.  0.  0.  0.  0.\n",
      "   0.  0.  0.  0.  0.  0.  0.]\n",
      " [ 0.  0.  0.  0.  0.  0.  1. -1.  0.  0.  0.  0.  0.  0.  0.  0.  0.  0.\n",
      "   0.  0.  0.  0.  0.  0.  0.]\n",
      " [ 0.  0.  0.  0.  0.  0.  0.  1.  0.  0.  0.  0.  0.  0.  0.  0.  0.  0.\n",
      "   0.  0.  0.  0.  0.  0.  0.]\n",
      " [ 0.  0.  0.  0.  0. -1.  0.  0.  1.  0.  0.  0.  0.  0.  0.  0.  0.  0.\n",
      "   0.  0.  0.  0.  0.  0.  0.]\n",
      " [ 0.  0.  0.  0.  0.  0.  0.  0. -1.  1.  0.  0.  0.  0.  0.  0.  0.  0.\n",
      "   0.  0.  0.  0.  0.  0.  0.]\n",
      " [ 0.  0.  0.  0.  0.  0.  0.  0.  0. -1.  1.  0.  0.  0.  0.  0.  0.  0.\n",
      "   0.  0.  0.  0.  0.  0.  0.]\n",
      " [ 0.  0.  0.  0.  0.  0.  0.  0.  0.  0. -1.  1.  0.  0.  0.  0.  0.  0.\n",
      "   0.  0.  0.  0.  0.  0.  0.]\n",
      " [ 0.  0.  0.  0.  0.  0.  0.  0.  0.  0.  0. -1.  1.  0.  0.  0.  0.  0.\n",
      "   0.  0.  0.  0.  0.  0.  0.]\n",
      " [ 0.  0.  0.  0.  0.  0.  0.  0.  0.  0.  0.  0.  1. -1.  0.  0.  0.  0.\n",
      "   0.  0.  0.  0.  0.  0.  0.]\n",
      " [ 0.  0.  0.  0.  0.  0.  0.  0.  0.  0.  0.  0.  0.  1.  0.  0.  0.  0.\n",
      "   0.  0.  0.  0.  0.  0.  0.]\n",
      " [ 0.  0.  0.  0.  0.  0.  0.  0.  0.  0.  0.  0.  0.  0.  1.  0.  0.  0.\n",
      "   0.  0.  0.  0.  0.  0.  0.]\n",
      " [ 0.  0.  0.  0.  0.  0.  0.  0.  0.  0.  0.  0.  0.  0. -1.  1.  0.  0.\n",
      "   0.  0.  0.  0.  0.  0.  0.]\n",
      " [ 0.  0.  0.  0.  0.  0.  0.  0.  0.  0.  0.  1.  0.  0.  0. -1.  0.  0.\n",
      "   0.  0.  0.  0.  0.  0.  0.]\n",
      " [ 0.  0.  0.  0.  0.  0.  0.  0.  0.  0.  0. -1.  0.  0.  0.  0.  1.  0.\n",
      "   0.  0.  0.  0.  0.  0.  0.]\n",
      " [ 0.  0.  0.  0.  0.  0.  0.  0.  0.  0.  0.  0.  0.  0.  0.  0. -1.  1.\n",
      "   0.  0.  0.  0.  0.  0.  0.]\n",
      " [ 0.  0.  0.  0.  0.  0.  0.  0.  0.  0.  0.  0.  0.  0.  0.  0.  0. -1.\n",
      "   1.  0.  0.  0.  0.  0.  0.]\n",
      " [ 0.  0.  0.  0.  0.  0.  0.  0.  0.  0.  0.  0.  0.  0.  0.  0.  0.  0.\n",
      "   1.  0.  0.  0.  0.  0.  0.]\n",
      " [ 0.  0.  0.  0.  0.  0.  0.  0.  0. -1.  0.  0.  0.  0.  0.  0.  0.  0.\n",
      "   0.  1.  0.  0.  0.  0.  0.]\n",
      " [ 0.  0.  0.  0.  0.  0.  0.  0.  0.  0.  0.  0.  0.  0.  0.  0.  0.  0.\n",
      "   0. -1.  1.  0.  0.  0.  0.]\n",
      " [ 0.  0.  0.  0.  0.  0.  0.  0.  0.  0.  0.  0.  0.  0.  0.  0.  0.  0.\n",
      "   0.  0. -1.  1.  0.  0.  0.]\n",
      " [ 0.  0.  0.  0.  0.  0.  0.  0.  0.  0.  0.  0.  0.  0.  0.  0.  0.  0.\n",
      "   0.  0.  0.  1.  0.  0.  0.]\n",
      " [ 0.  0.  0.  0.  0.  0.  0.  0.  0.  0.  0.  0.  0.  0.  0.  0.  0.  0.\n",
      "   0.  0.  0.  0.  1.  0.  0.]\n",
      " [ 0.  0.  0.  0.  0.  0.  0.  0.  0.  0.  0.  0.  0.  0.  0.  0.  0.  0.\n",
      "   0.  0.  0.  0. -1.  1.  0.]\n",
      " [ 0.  0.  0.  0.  0.  0.  0.  0.  0.  0.  0.  0.  0.  0.  0.  0.  0.  0.\n",
      "   0.  0.  0.  0.  0. -1.  1.]\n",
      " [ 0.  0.  0.  0.  0.  0.  0.  0.  0.  0.  0.  0.  0.  0.  0.  0.  0.  0.\n",
      "   0.  0.  0.  0.  0.  0. -1.]\n",
      " [ 0.  0.  0.  0.  0.  0.  0.  0.  0.  0.  0.  0.  1.  0.  0.  0.  0.  0.\n",
      "   0.  0.  0.  0.  0. -1.  0.]\n",
      " [ 0.  0.  0.  0.  0.  0.  0.  0.  0.  0.  0.  0.  0.  0.  0.  0.  0.  1.\n",
      "   0.  0. -1.  0.  0.  0.  1.]\n",
      " [ 0.  0.  0.  0.  0.  0.  0.  0.  0.  0.  0.  0.  0.  0.  0.  0.  0. -1.\n",
      "   0.  0.  0.  0.  0.  0.  0.]]\n"
     ]
    }
   ],
   "source": [
    "incidence_matrix = np.zeros([number_of_branches, number_of_nodes]) # number of branches times number of nodes, A\n",
    "\n",
    "# \"Slice 1\"\n",
    "incidence_matrix[0, 0] = 1 # Branch q_0 enters node theta_0.\n",
    "\n",
    "incidence_matrix[1, 0] = -1 # Branch q_1 leaves node theta_0.\n",
    "incidence_matrix[1, 1] = 1 # analogously\n",
    "incidence_matrix[2, 1] = -1\n",
    "incidence_matrix[2, 2] = 1\n",
    "\n",
    "incidence_matrix[3, 2] = 1\n",
    "incidence_matrix[3, 3] = -1\n",
    "\n",
    "incidence_matrix[4, 3] = 1\n",
    "\n",
    "incidence_matrix[5, 1] = -1\n",
    "incidence_matrix[5, 5] = 1\n",
    "\n",
    "# \"Slice 2\"\n",
    "\n",
    "incidence_matrix[6, 4] = 1\n",
    "\n",
    "incidence_matrix[7, 4] = -1\n",
    "incidence_matrix[7, 5] = 1\n",
    "incidence_matrix[8, 5] = -1\n",
    "incidence_matrix[8, 6] = 1\n",
    "\n",
    "incidence_matrix[9, 6] = 1\n",
    "incidence_matrix[9, 7] = -1\n",
    "\n",
    "incidence_matrix[10, 7] = 1\n",
    "\n",
    "incidence_matrix[11, 5] = -1\n",
    "incidence_matrix[11, 8] = 1\n",
    "\n",
    "# \"Slice 3\"\n",
    "\n",
    "incidence_matrix[12, 8] = -1\n",
    "incidence_matrix[12, 9] = 1\n",
    "\n",
    "incidence_matrix[13, 9] = -1\n",
    "incidence_matrix[13, 10] = 1\n",
    "incidence_matrix[14, 10] = -1\n",
    "incidence_matrix[14, 11] = 1\n",
    "incidence_matrix[15, 11] = -1\n",
    "incidence_matrix[15, 12] = 1\n",
    "\n",
    "incidence_matrix[16, 12] = 1\n",
    "incidence_matrix[16, 13] = -1\n",
    "\n",
    "incidence_matrix[17, 13] = 1\n",
    "\n",
    "# \"Slice 4\"\n",
    "\n",
    "incidence_matrix[18, 14] = 1\n",
    "\n",
    "incidence_matrix[19, 14] = -1\n",
    "incidence_matrix[19, 15] = 1\n",
    "incidence_matrix[20, 15] = -1\n",
    "incidence_matrix[20, 11] = 1\n",
    "incidence_matrix[21, 11] = -1\n",
    "incidence_matrix[21, 16] = 1\n",
    "incidence_matrix[22, 16] = -1\n",
    "incidence_matrix[22, 17] = 1\n",
    "incidence_matrix[23, 17] = -1\n",
    "incidence_matrix[23, 18] = 1\n",
    "\n",
    "incidence_matrix[24, 18] = 1\n",
    "\n",
    "incidence_matrix[25, 9] = -1\n",
    "incidence_matrix[25, 19] = 1\n",
    "\n",
    "# \"Slice 5\"\n",
    "\n",
    "incidence_matrix[26, 19] = -1\n",
    "incidence_matrix[26, 20] = 1\n",
    "\n",
    "incidence_matrix[34, 20] = -1\n",
    "incidence_matrix[34, 17] = 1\n",
    "incidence_matrix[35, 17] = -1\n",
    "incidence_matrix[34, 24] = 1\n",
    "incidence_matrix[27, 20] = -1\n",
    "incidence_matrix[27, 21] = 1\n",
    "\n",
    "incidence_matrix[28, 21] = 1\n",
    "\n",
    "# \"Slice 6\"\n",
    "\n",
    "incidence_matrix[29, 22] = 1\n",
    "\n",
    "incidence_matrix[30, 22] = -1\n",
    "incidence_matrix[30, 23] = 1\n",
    "incidence_matrix[31, 23] = -1\n",
    "incidence_matrix[31, 24] = 1\n",
    "\n",
    "incidence_matrix[32, 24] = -1\n",
    "\n",
    "# \"Slice 7\"\n",
    "\n",
    "incidence_matrix[33, 23] = -1\n",
    "incidence_matrix[33, 12] = 1\n",
    "\n",
    "print('Incidence matrix:')\n",
    "print()\n",
    "print(incidence_matrix)"
   ]
  },
  {
   "cell_type": "markdown",
   "id": "2c2db9a2-e612-4077-8cb1-9f14a3111fb2",
   "metadata": {},
   "source": [
    "#### G: conductance matrix"
   ]
  },
  {
   "cell_type": "code",
   "execution_count": 17,
   "id": "90137e71-e087-461e-9a77-3f1d27600359",
   "metadata": {
    "tags": []
   },
   "outputs": [
    {
     "name": "stdout",
     "output_type": "stream",
     "text": [
      "()\n",
      "(36, 36)\n",
      "Conductance matrix:\n",
      "\n",
      "[[890.625       0.          0.        ...   0.          0.\n",
      "    0.       ]\n",
      " [  0.        665.          0.        ...   0.          0.\n",
      "    0.       ]\n",
      " [  0.          0.        665.        ...   0.          0.\n",
      "    0.       ]\n",
      " ...\n",
      " [  0.          0.          0.        ...   8.0323199   0.\n",
      "    0.       ]\n",
      " [  0.          0.          0.        ...   0.        665.\n",
      "    0.       ]\n",
      " [  0.          0.          0.        ...   0.          0.\n",
      "  665.       ]]\n"
     ]
    }
   ],
   "source": [
    "print(np.shape(long_wave_radiation_wall_window))\n",
    "\n",
    "conductance_matrix = np.diag(np.hstack([wall_convection_conductances['Out'], # G # R0 - Convection at the inner wall of the adjacent zone.\n",
    "                                        2 * conduction_conductances['Outside_layer'], # R1 - Conduction in the wall\n",
    "                                        2 * conduction_conductances['Outside_layer'], # R2 - Conduction in the wall\n",
    "                                        wall_convection_conductances['In'], # R3 - Convection at the inner wall of the thermal zone.\n",
    "                                        advection_conductance, # # R4 - Advection from ventilation\n",
    "                                        2 * conduction_conductances['Outside_layer'], # R5 - Conduction in the wall\n",
    "                                        wall_convection_conductances['Out'], # R6 - Convection at the inner wall of the adjacent zone.\n",
    "                                        2 * conduction_conductances['Outside_layer'], # R7\n",
    "                                        2 * conduction_conductances['Outside_layer'], # R8\n",
    "                                        wall_convection_conductances['In'], # R9\n",
    "                                        advection_conductance, # R10\n",
    "                                        2 * conduction_conductances['Outside_layer'], # R11\n",
    "                                        2 * conduction_conductances['Outside_layer'], # R12\n",
    "                                        2 * conduction_conductances['Outside_layer'], # R13 \n",
    "                                        2 * conduction_conductances['Inside_layer'], # R14\n",
    "                                        2 * conduction_conductances['Inside_layer'], # R15\n",
    "                                        wall_convection_conductances['In'], # R16\n",
    "                                        advection_conductance, # R17\n",
    "                                        advection_conductance, # R18\n",
    "                                        wall_convection_conductances['In'], # R19\n",
    "                                        2 * conduction_conductances['Inside_layer'], # R20 (convection at the outside surface of the wall)\n",
    "                                        2 * conduction_conductances['Inside_layer'], # R21\n",
    "                                        2 * conduction_conductances['Outside_layer'], # R22\n",
    "                                        2 * conduction_conductances['Outside_layer'], # R23\n",
    "                                        wall_convection_conductances['Out'], # R24\n",
    "                                        2 * conduction_conductances['Outside_layer'], # R25\n",
    "                                        2 * conduction_conductances['Outside_layer'], # R26\n",
    "                                        2 * conduction_conductances['Outside_layer'], # R27\n",
    "                                        wall_convection_conductances['Out'], # R28\n",
    "                                        advection_conductance, # R29\n",
    "                                        window_convection_conductances['In'], # R30\n",
    "                                        2 * conduction_conductances['Window'], # R31\n",
    "                                        outdoor_window_half_convection_conduction_conductance, # R32\n",
    "                                        long_wave_radiation_wall_window, # R33\n",
    "                                        2 * conduction_conductances['Outside_layer'], # R34\n",
    "                                        2 * conduction_conductances['Outside_layer'] # R35\n",
    "                                        ]))\n",
    "print(np.shape(conductance_matrix))\n",
    "print('Conductance matrix:')\n",
    "print()\n",
    "print(conductance_matrix)"
   ]
  },
  {
   "cell_type": "code",
   "execution_count": 18,
   "id": "8c53e123-581d-40bd-8be5-0013a4b8e74f",
   "metadata": {
    "tags": []
   },
   "outputs": [
    {
     "name": "stdout",
     "output_type": "stream",
     "text": [
      "Conductance matrix:\n",
      "\n",
      "[[890.625       0.          0.        ...   0.          0.\n",
      "    0.       ]\n",
      " [  0.        665.          0.        ...   0.          0.\n",
      "    0.       ]\n",
      " [  0.          0.        665.        ...   0.          0.\n",
      "    0.       ]\n",
      " ...\n",
      " [  0.          0.          0.        ...   8.0323199   0.\n",
      "    0.       ]\n",
      " [  0.          0.          0.        ...   0.        665.\n",
      "    0.       ]\n",
      " [  0.          0.          0.        ...   0.          0.\n",
      "  665.       ]]\n"
     ]
    }
   ],
   "source": [
    "conductance_matrix = np.zeros([36, 36])  \n",
    "conductance_matrix = np.diag(np.hstack([wall_convection_conductances['Out'], # G # R0 - Convection at the inner wall of the adjacent zone.\n",
    "                                        2 * conduction_conductances['Outside_layer'], # R1 - Conduction in the wall\n",
    "                                        2 * conduction_conductances['Outside_layer'], # R2 - Conduction in the wall\n",
    "                                        wall_convection_conductances['In'], # R3 - Convection at the inner wall of the thermal zone.\n",
    "                                        advection_conductance, # # R4 - Advection from ventilation\n",
    "                                        2 * conduction_conductances['Outside_layer'], # R5 - Conduction in the wall\n",
    "                                        wall_convection_conductances['Out'], # R6 - Convection at the inner wall of the adjacent zone.\n",
    "                                        2 * conduction_conductances['Outside_layer'], # R7\n",
    "                                        2 * conduction_conductances['Outside_layer'], # R8\n",
    "                                        wall_convection_conductances['In'], # R9\n",
    "                                        advection_conductance, # R10\n",
    "                                        2 * conduction_conductances['Outside_layer'], # R11\n",
    "                                        2 * conduction_conductances['Outside_layer'], # R12\n",
    "                                        2 * conduction_conductances['Outside_layer'], # R13\n",
    "                                        2 * conduction_conductances['Inside_layer'], # R14\n",
    "                                        2 * conduction_conductances['Inside_layer'], # R15\n",
    "                                        wall_convection_conductances['In'], # R16\n",
    "                                        advection_conductance, # R17\n",
    "                                        advection_conductance, # R18\n",
    "                                        wall_convection_conductances['In'], # R19\n",
    "                                        2 * conduction_conductances['Inside_layer'], # R20 (convection at the outside surface of the wall)\n",
    "                                        2 * conduction_conductances['Inside_layer'], # R21\n",
    "                                        2 * conduction_conductances['Outside_layer'], # R22\n",
    "                                        2 * conduction_conductances['Outside_layer'], # R23\n",
    "                                        wall_convection_conductances['Out'], # R24\n",
    "                                        2 * conduction_conductances['Outside_layer'], # R25\n",
    "                                        2 * conduction_conductances['Outside_layer'], # R26\n",
    "                                        2 * conduction_conductances['Outside_layer'], # R27\n",
    "                                        wall_convection_conductances['Out'], # R28\n",
    "                                        advection_conductance, # R29\n",
    "                                        window_convection_conductances['In'], # R30\n",
    "                                        2 * conduction_conductances['Window'], # R31\n",
    "                                        outdoor_window_half_convection_conduction_conductance, # R32\n",
    "                                        long_wave_radiation_wall_window, # R33\n",
    "                                        2 * conduction_conductances['Outside_layer'], # R34\n",
    "                                        2 * conduction_conductances['Outside_layer'] # R35\n",
    "                                        ]))\n",
    "\n",
    "print('Conductance matrix:')\n",
    "print()\n",
    "print(conductance_matrix)"
   ]
  },
  {
   "cell_type": "markdown",
   "id": "0d0d7f02-bc07-497f-a66b-0f07682530fb",
   "metadata": {},
   "source": [
    "#### C: capacity matrix"
   ]
  },
  {
   "cell_type": "code",
   "execution_count": 19,
   "id": "ca2b5a02-7d8e-4292-8a91-46a4ffcc3200",
   "metadata": {},
   "outputs": [
    {
     "name": "stdout",
     "output_type": "stream",
     "text": [
      "[[0.000000e+00 0.000000e+00 0.000000e+00 0.000000e+00 0.000000e+00\n",
      "  0.000000e+00 0.000000e+00 0.000000e+00 0.000000e+00 0.000000e+00\n",
      "  0.000000e+00 0.000000e+00 0.000000e+00 0.000000e+00 0.000000e+00\n",
      "  0.000000e+00 0.000000e+00 0.000000e+00 0.000000e+00 0.000000e+00\n",
      "  0.000000e+00 0.000000e+00 0.000000e+00 0.000000e+00 0.000000e+00]\n",
      " [0.000000e+00 1.081575e+07 0.000000e+00 0.000000e+00 0.000000e+00\n",
      "  0.000000e+00 0.000000e+00 0.000000e+00 0.000000e+00 0.000000e+00\n",
      "  0.000000e+00 0.000000e+00 0.000000e+00 0.000000e+00 0.000000e+00\n",
      "  0.000000e+00 0.000000e+00 0.000000e+00 0.000000e+00 0.000000e+00\n",
      "  0.000000e+00 0.000000e+00 0.000000e+00 0.000000e+00 0.000000e+00]\n",
      " [0.000000e+00 0.000000e+00 0.000000e+00 0.000000e+00 0.000000e+00\n",
      "  0.000000e+00 0.000000e+00 0.000000e+00 0.000000e+00 0.000000e+00\n",
      "  0.000000e+00 0.000000e+00 0.000000e+00 0.000000e+00 0.000000e+00\n",
      "  0.000000e+00 0.000000e+00 0.000000e+00 0.000000e+00 0.000000e+00\n",
      "  0.000000e+00 0.000000e+00 0.000000e+00 0.000000e+00 0.000000e+00]\n",
      " [0.000000e+00 0.000000e+00 0.000000e+00 0.000000e+00 0.000000e+00\n",
      "  0.000000e+00 0.000000e+00 0.000000e+00 0.000000e+00 0.000000e+00\n",
      "  0.000000e+00 0.000000e+00 0.000000e+00 0.000000e+00 0.000000e+00\n",
      "  0.000000e+00 0.000000e+00 0.000000e+00 0.000000e+00 0.000000e+00\n",
      "  0.000000e+00 0.000000e+00 0.000000e+00 0.000000e+00 0.000000e+00]\n",
      " [0.000000e+00 0.000000e+00 0.000000e+00 0.000000e+00 0.000000e+00\n",
      "  0.000000e+00 0.000000e+00 0.000000e+00 0.000000e+00 0.000000e+00\n",
      "  0.000000e+00 0.000000e+00 0.000000e+00 0.000000e+00 0.000000e+00\n",
      "  0.000000e+00 0.000000e+00 0.000000e+00 0.000000e+00 0.000000e+00\n",
      "  0.000000e+00 0.000000e+00 0.000000e+00 0.000000e+00 0.000000e+00]\n",
      " [0.000000e+00 0.000000e+00 0.000000e+00 0.000000e+00 0.000000e+00\n",
      "  1.081575e+07 0.000000e+00 0.000000e+00 0.000000e+00 0.000000e+00\n",
      "  0.000000e+00 0.000000e+00 0.000000e+00 0.000000e+00 0.000000e+00\n",
      "  0.000000e+00 0.000000e+00 0.000000e+00 0.000000e+00 0.000000e+00\n",
      "  0.000000e+00 0.000000e+00 0.000000e+00 0.000000e+00 0.000000e+00]\n",
      " [0.000000e+00 0.000000e+00 0.000000e+00 0.000000e+00 0.000000e+00\n",
      "  0.000000e+00 0.000000e+00 0.000000e+00 0.000000e+00 0.000000e+00\n",
      "  0.000000e+00 0.000000e+00 0.000000e+00 0.000000e+00 0.000000e+00\n",
      "  0.000000e+00 0.000000e+00 0.000000e+00 0.000000e+00 0.000000e+00\n",
      "  0.000000e+00 0.000000e+00 0.000000e+00 0.000000e+00 0.000000e+00]\n",
      " [0.000000e+00 0.000000e+00 0.000000e+00 0.000000e+00 0.000000e+00\n",
      "  0.000000e+00 0.000000e+00 0.000000e+00 0.000000e+00 0.000000e+00\n",
      "  0.000000e+00 0.000000e+00 0.000000e+00 0.000000e+00 0.000000e+00\n",
      "  0.000000e+00 0.000000e+00 0.000000e+00 0.000000e+00 0.000000e+00\n",
      "  0.000000e+00 0.000000e+00 0.000000e+00 0.000000e+00 0.000000e+00]\n",
      " [0.000000e+00 0.000000e+00 0.000000e+00 0.000000e+00 0.000000e+00\n",
      "  0.000000e+00 0.000000e+00 0.000000e+00 0.000000e+00 0.000000e+00\n",
      "  0.000000e+00 0.000000e+00 0.000000e+00 0.000000e+00 0.000000e+00\n",
      "  0.000000e+00 0.000000e+00 0.000000e+00 0.000000e+00 0.000000e+00\n",
      "  0.000000e+00 0.000000e+00 0.000000e+00 0.000000e+00 0.000000e+00]\n",
      " [0.000000e+00 0.000000e+00 0.000000e+00 0.000000e+00 0.000000e+00\n",
      "  0.000000e+00 0.000000e+00 0.000000e+00 0.000000e+00 1.081575e+07\n",
      "  0.000000e+00 0.000000e+00 0.000000e+00 0.000000e+00 0.000000e+00\n",
      "  0.000000e+00 0.000000e+00 0.000000e+00 0.000000e+00 0.000000e+00\n",
      "  0.000000e+00 0.000000e+00 0.000000e+00 0.000000e+00 0.000000e+00]\n",
      " [0.000000e+00 0.000000e+00 0.000000e+00 0.000000e+00 0.000000e+00\n",
      "  0.000000e+00 0.000000e+00 0.000000e+00 0.000000e+00 0.000000e+00\n",
      "  0.000000e+00 0.000000e+00 0.000000e+00 0.000000e+00 0.000000e+00\n",
      "  0.000000e+00 0.000000e+00 0.000000e+00 0.000000e+00 0.000000e+00\n",
      "  0.000000e+00 0.000000e+00 0.000000e+00 0.000000e+00 0.000000e+00]\n",
      " [0.000000e+00 0.000000e+00 0.000000e+00 0.000000e+00 0.000000e+00\n",
      "  0.000000e+00 0.000000e+00 0.000000e+00 0.000000e+00 0.000000e+00\n",
      "  0.000000e+00 2.268750e+03 0.000000e+00 0.000000e+00 0.000000e+00\n",
      "  0.000000e+00 0.000000e+00 0.000000e+00 0.000000e+00 0.000000e+00\n",
      "  0.000000e+00 0.000000e+00 0.000000e+00 0.000000e+00 0.000000e+00]\n",
      " [0.000000e+00 0.000000e+00 0.000000e+00 0.000000e+00 0.000000e+00\n",
      "  0.000000e+00 0.000000e+00 0.000000e+00 0.000000e+00 0.000000e+00\n",
      "  0.000000e+00 0.000000e+00 0.000000e+00 0.000000e+00 0.000000e+00\n",
      "  0.000000e+00 0.000000e+00 0.000000e+00 0.000000e+00 0.000000e+00\n",
      "  0.000000e+00 0.000000e+00 0.000000e+00 0.000000e+00 0.000000e+00]\n",
      " [0.000000e+00 0.000000e+00 0.000000e+00 0.000000e+00 0.000000e+00\n",
      "  0.000000e+00 0.000000e+00 0.000000e+00 0.000000e+00 0.000000e+00\n",
      "  0.000000e+00 0.000000e+00 0.000000e+00 0.000000e+00 0.000000e+00\n",
      "  0.000000e+00 0.000000e+00 0.000000e+00 0.000000e+00 0.000000e+00\n",
      "  0.000000e+00 0.000000e+00 0.000000e+00 0.000000e+00 0.000000e+00]\n",
      " [0.000000e+00 0.000000e+00 0.000000e+00 0.000000e+00 0.000000e+00\n",
      "  0.000000e+00 0.000000e+00 0.000000e+00 0.000000e+00 0.000000e+00\n",
      "  0.000000e+00 0.000000e+00 0.000000e+00 0.000000e+00 0.000000e+00\n",
      "  0.000000e+00 0.000000e+00 0.000000e+00 0.000000e+00 0.000000e+00\n",
      "  0.000000e+00 0.000000e+00 0.000000e+00 0.000000e+00 0.000000e+00]\n",
      " [0.000000e+00 0.000000e+00 0.000000e+00 0.000000e+00 0.000000e+00\n",
      "  0.000000e+00 0.000000e+00 0.000000e+00 0.000000e+00 0.000000e+00\n",
      "  0.000000e+00 0.000000e+00 0.000000e+00 0.000000e+00 0.000000e+00\n",
      "  0.000000e+00 0.000000e+00 0.000000e+00 0.000000e+00 0.000000e+00\n",
      "  0.000000e+00 0.000000e+00 0.000000e+00 0.000000e+00 0.000000e+00]\n",
      " [0.000000e+00 0.000000e+00 0.000000e+00 0.000000e+00 0.000000e+00\n",
      "  0.000000e+00 0.000000e+00 0.000000e+00 0.000000e+00 0.000000e+00\n",
      "  0.000000e+00 0.000000e+00 0.000000e+00 0.000000e+00 0.000000e+00\n",
      "  0.000000e+00 0.000000e+00 0.000000e+00 0.000000e+00 0.000000e+00\n",
      "  0.000000e+00 0.000000e+00 0.000000e+00 0.000000e+00 0.000000e+00]\n",
      " [0.000000e+00 0.000000e+00 0.000000e+00 0.000000e+00 0.000000e+00\n",
      "  0.000000e+00 0.000000e+00 0.000000e+00 0.000000e+00 0.000000e+00\n",
      "  0.000000e+00 0.000000e+00 0.000000e+00 0.000000e+00 0.000000e+00\n",
      "  0.000000e+00 0.000000e+00 0.000000e+00 0.000000e+00 0.000000e+00\n",
      "  0.000000e+00 0.000000e+00 0.000000e+00 0.000000e+00 0.000000e+00]\n",
      " [0.000000e+00 0.000000e+00 0.000000e+00 0.000000e+00 0.000000e+00\n",
      "  0.000000e+00 0.000000e+00 0.000000e+00 0.000000e+00 0.000000e+00\n",
      "  0.000000e+00 0.000000e+00 0.000000e+00 0.000000e+00 0.000000e+00\n",
      "  0.000000e+00 0.000000e+00 0.000000e+00 0.000000e+00 0.000000e+00\n",
      "  0.000000e+00 0.000000e+00 0.000000e+00 0.000000e+00 0.000000e+00]\n",
      " [0.000000e+00 0.000000e+00 0.000000e+00 0.000000e+00 0.000000e+00\n",
      "  0.000000e+00 0.000000e+00 0.000000e+00 0.000000e+00 0.000000e+00\n",
      "  0.000000e+00 0.000000e+00 0.000000e+00 0.000000e+00 0.000000e+00\n",
      "  0.000000e+00 0.000000e+00 0.000000e+00 0.000000e+00 0.000000e+00\n",
      "  0.000000e+00 0.000000e+00 0.000000e+00 0.000000e+00 0.000000e+00]\n",
      " [0.000000e+00 0.000000e+00 0.000000e+00 0.000000e+00 0.000000e+00\n",
      "  0.000000e+00 0.000000e+00 0.000000e+00 0.000000e+00 0.000000e+00\n",
      "  0.000000e+00 0.000000e+00 0.000000e+00 0.000000e+00 0.000000e+00\n",
      "  0.000000e+00 0.000000e+00 0.000000e+00 0.000000e+00 0.000000e+00\n",
      "  0.000000e+00 0.000000e+00 0.000000e+00 0.000000e+00 0.000000e+00]\n",
      " [0.000000e+00 0.000000e+00 0.000000e+00 0.000000e+00 0.000000e+00\n",
      "  0.000000e+00 0.000000e+00 0.000000e+00 0.000000e+00 0.000000e+00\n",
      "  0.000000e+00 0.000000e+00 0.000000e+00 0.000000e+00 0.000000e+00\n",
      "  0.000000e+00 0.000000e+00 0.000000e+00 0.000000e+00 0.000000e+00\n",
      "  0.000000e+00 0.000000e+00 0.000000e+00 0.000000e+00 0.000000e+00]\n",
      " [0.000000e+00 0.000000e+00 0.000000e+00 0.000000e+00 0.000000e+00\n",
      "  0.000000e+00 0.000000e+00 0.000000e+00 0.000000e+00 0.000000e+00\n",
      "  0.000000e+00 0.000000e+00 0.000000e+00 0.000000e+00 0.000000e+00\n",
      "  0.000000e+00 0.000000e+00 0.000000e+00 0.000000e+00 0.000000e+00\n",
      "  0.000000e+00 0.000000e+00 0.000000e+00 0.000000e+00 0.000000e+00]\n",
      " [0.000000e+00 0.000000e+00 0.000000e+00 0.000000e+00 0.000000e+00\n",
      "  0.000000e+00 0.000000e+00 0.000000e+00 0.000000e+00 0.000000e+00\n",
      "  0.000000e+00 0.000000e+00 0.000000e+00 0.000000e+00 0.000000e+00\n",
      "  0.000000e+00 0.000000e+00 0.000000e+00 0.000000e+00 0.000000e+00\n",
      "  0.000000e+00 0.000000e+00 0.000000e+00 0.000000e+00 0.000000e+00]\n",
      " [0.000000e+00 0.000000e+00 0.000000e+00 0.000000e+00 0.000000e+00\n",
      "  0.000000e+00 0.000000e+00 0.000000e+00 0.000000e+00 0.000000e+00\n",
      "  0.000000e+00 0.000000e+00 0.000000e+00 0.000000e+00 0.000000e+00\n",
      "  0.000000e+00 0.000000e+00 0.000000e+00 0.000000e+00 0.000000e+00\n",
      "  0.000000e+00 0.000000e+00 0.000000e+00 0.000000e+00 0.000000e+00]]\n"
     ]
    }
   ],
   "source": [
    "neglect_air_and_window = False\n",
    "\n",
    "if neglect_air_and_window:\n",
    "    capacity_matrix = np.diag([0, thermal_capacities['Outside_layer'], 0, # C # Θ0-Θ2\n",
    "                               thermal_capacities['Air'], 0, thermal_capacities['Outside_layer'], # Θ3-Θ5\n",
    "                               0, # Θ6\n",
    "                               thermal_capacities['Air'], 0, thermal_capacities['Outside_layer'], 0, # Θ7-Θ10\n",
    "                               thermal_capacities['Inside_layer'], 0, thermal_capacities['Air'], thermal_capacities['Air'], # Θ11-Θ14\n",
    "                               0, 0, 0, # Θ15-Θ17\n",
    "                               0, 0, 0, # Θ18-Θ20\n",
    "                               0, thermal_capacities['Air'], 0, # Θ21-Θ23\n",
    "                               thermal_capacities['Window']]) # Θ24\n",
    "else:\n",
    "    capacity_matrix = np.diag([0, thermal_capacities['Outside_layer'], 0, # C # Θ0-Θ2\n",
    "                               0, 0, thermal_capacities['Outside_layer'], # Θ3-Θ5\n",
    "                               0, # Θ6\n",
    "                               0, 0, thermal_capacities['Outside_layer'], 0, # Θ7-Θ10\n",
    "                               thermal_capacities['Inside_layer'], 0, 0, 0, # Θ11-Θ14\n",
    "                               0, 0, 0, # Θ15-Θ17\n",
    "                               0, 0, 0, # Θ18-Θ20\n",
    "                               0, 0, 0, # Θ21-Θ23\n",
    "                               0]) # Θ24\n",
    "\n",
    "print(capacity_matrix)   "
   ]
  },
  {
   "cell_type": "markdown",
   "id": "efedaf69-3d44-427b-8901-0a68be3edabd",
   "metadata": {
    "tags": []
   },
   "source": [
    "#### b: temperature source vector"
   ]
  },
  {
   "cell_type": "code",
   "execution_count": 20,
   "id": "26aab83c-5ed8-427a-8ec2-afdf98923cbf",
   "metadata": {},
   "outputs": [
    {
     "name": "stdout",
     "output_type": "stream",
     "text": [
      "[1 0 0 0 1 0 1 0 0 0 1 0 0 0 0 0 0 1 1 0 0 0 0 0 1 0 0 0 1 1 0 0 1 0 0 0]\n"
     ]
    }
   ],
   "source": [
    "temperature_source_vector = np.zeros(number_of_branches) # b\n",
    "temperature_source_vector = np.array([1, 0, 0, 0, 1, # R0-R4\n",
    "                                      0, # R5\n",
    "                                      1, 0, 0, 0, 1, # R6-R10\n",
    "                                      0, 0, # R11-R12\n",
    "                                      0, 0, 0, 0, 1, # R13-R17\n",
    "                                      1, 0, 0, 0, 0, 0, 1, # R18-R24\n",
    "                                      0, 0, 0, 1, # R25-R28\n",
    "                                      1, 0, 0, 1, 0, # R29-R33\n",
    "                                      0, 0]) # R34-R35\n",
    "\n",
    "print(temperature_source_vector)"
   ]
  },
  {
   "cell_type": "markdown",
   "id": "236ad1c6-64ac-4e42-b7cb-46be011ccc75",
   "metadata": {
    "tags": []
   },
   "source": [
    "#### f: heat flow source vector"
   ]
  },
  {
   "cell_type": "code",
   "execution_count": 21,
   "id": "0879a889-03f1-4858-b039-014ba391197d",
   "metadata": {},
   "outputs": [
    {
     "name": "stdout",
     "output_type": "stream",
     "text": [
      "[1 0 1 0 1 0 1 0 0 0 0 0 0 0 0 0 0 0 0 0 0 0 0 0 1]\n"
     ]
    }
   ],
   "source": [
    "heat_flow_source_vector = np.zeros(number_of_nodes) # f\n",
    "heat_flow_source_vector = np.array([1, 0, 1, 0, # Θ0-Θ3\n",
    "                                    1, 0, 1, 0, # Θ4-Θ7\n",
    "                                    0, # Θ8\n",
    "                                    0, 0, 0, 0, 0, # Θ9-Θ13\n",
    "                                    0, 0, 0, 0, 0, # Θ14-Θ18\n",
    "                                    0, 0, 0, # Θ19-Θ21\n",
    "                                    0, 0, 1]) # Θ22-Θ24\n",
    "\n",
    "print(heat_flow_source_vector)"
   ]
  },
  {
   "cell_type": "markdown",
   "id": "5dee59ff-9153-498a-ab9b-a1bedb6b5d35",
   "metadata": {
    "tags": []
   },
   "source": [
    "#### y: output vector"
   ]
  },
  {
   "cell_type": "code",
   "execution_count": 22,
   "id": "19fe1e2e-15aa-4739-9524-8003117eac45",
   "metadata": {},
   "outputs": [
    {
     "name": "stdout",
     "output_type": "stream",
     "text": [
      "[0 0 0 1 0 0 0 1 0 0 0 0 0 1 1 0 0 0 0 0 0 0 1 0 0]\n"
     ]
    }
   ],
   "source": [
    "output_vector = np.zeros(number_of_nodes) # y\n",
    "output_vector = np.array([0, 0, 0, 1, # Θ0-Θ3\n",
    "                          0, 0, 0, 1, # Θ4-Θ7\n",
    "                          0, # Θ8\n",
    "                          0, 0, 0, 0, 1, # Θ9-Θ13\n",
    "                          1, 0, 0, 0, 0, # Θ14-Θ18\n",
    "                          0, 0, 0, # Θ19-Θ21\n",
    "                          1, 0, 0]) # Θ22-Θ24\n",
    "\n",
    "print(output_vector)"
   ]
  },
  {
   "cell_type": "markdown",
   "id": "966dd727-c0b3-4c10-b458-6b3383219905",
   "metadata": {
    "tags": []
   },
   "source": [
    "### State-space representation"
   ]
  },
  {
   "cell_type": "code",
   "execution_count": 23,
   "id": "9de19844-7b6e-4493-ae5f-ac114411c5eb",
   "metadata": {
    "tags": []
   },
   "outputs": [
    {
     "name": "stdout",
     "output_type": "stream",
     "text": [
      "(36, 25)\n",
      "(36, 36)\n",
      "(25, 25)\n",
      "(36,)\n",
      "(25,)\n"
     ]
    }
   ],
   "source": [
    "print(np.shape(incidence_matrix))\n",
    "print(np.shape(conductance_matrix))\n",
    "print(np.shape(capacity_matrix))\n",
    "print(np.shape(temperature_source_vector))\n",
    "print(np.shape(heat_flow_source_vector))"
   ]
  },
  {
   "cell_type": "code",
   "execution_count": 24,
   "id": "23c9de06-8be7-4dff-a734-027c31349e27",
   "metadata": {},
   "outputs": [
    {
     "name": "stdout",
     "output_type": "stream",
     "text": [
      "State matrix:\n",
      "\n",
      "[[-9.71547059e-05  6.14844093e-05  0.00000000e+00  0.00000000e+00]\n",
      " [ 6.14844093e-05 -1.27896911e-04  3.07422047e-05  0.00000000e+00]\n",
      " [ 0.00000000e+00  3.07422047e-05 -4.81549043e-05  3.32772876e-07]\n",
      " [ 0.00000000e+00  0.00000000e+00  1.58641906e-03 -4.53232265e-03]]\n",
      "\n",
      "Input matrix:\n",
      "\n",
      "[[ 3.52009977e-05  4.69298870e-07  0.00000000e+00  0.00000000e+00\n",
      "   0.00000000e+00  0.00000000e+00  0.00000000e+00  0.00000000e+00\n",
      "   0.00000000e+00  0.00000000e+00  3.95239272e-08  9.17520458e-08\n",
      "   0.00000000e+00  0.00000000e+00  0.00000000e+00]\n",
      " [ 0.00000000e+00  0.00000000e+00  3.52009977e-05  4.69298870e-07\n",
      "   0.00000000e+00  0.00000000e+00  0.00000000e+00  0.00000000e+00\n",
      "   0.00000000e+00  0.00000000e+00  0.00000000e+00  0.00000000e+00\n",
      "   3.95239272e-08  9.17520458e-08  0.00000000e+00]\n",
      " [ 0.00000000e+00  0.00000000e+00  0.00000000e+00  0.00000000e+00\n",
      "   8.90148258e-08  0.00000000e+00  5.65473703e-07  1.55789686e-05\n",
      "   1.35252037e-07 -1.28112712e-06  0.00000000e+00  0.00000000e+00\n",
      "   0.00000000e+00  0.00000000e+00  3.70916805e-08]\n",
      " [ 0.00000000e+00  0.00000000e+00  0.00000000e+00  0.00000000e+00\n",
      "   4.33242587e-04  8.33464933e-04  2.67605324e-04  3.09210165e-04\n",
      "   2.18492817e-05 -3.38602925e-05  0.00000000e+00  0.00000000e+00\n",
      "   0.00000000e+00  0.00000000e+00  9.80336089e-07]]\n",
      "\n",
      "Output matrix\n",
      "\n",
      "[[0.9745573  0.         0.         0.        ]\n",
      " [0.         0.9745573  0.         0.        ]\n",
      " [0.         0.         0.18485032 0.18872047]\n",
      " [0.         0.         0.         0.36305732]\n",
      " [0.         0.         0.28086763 0.00951755]]\n",
      "\n",
      "Feedforward matrix\n",
      "\n",
      "[[ 0.          0.0254427   0.          0.          0.          0.\n",
      "   0.          0.          0.          0.          0.          0.0014655\n",
      "   0.          0.          0.        ]\n",
      " [ 0.          0.          0.          0.0254427   0.          0.\n",
      "   0.          0.          0.          0.          0.          0.\n",
      "   0.          0.0014655   0.        ]\n",
      " [ 0.          0.          0.          0.          0.34163168  0.\n",
      "  -0.14394969  0.21166068  0.0191522  -0.05285546  0.          0.\n",
      "   0.          0.          0.00153029]\n",
      " [ 0.          0.          0.          0.          0.          0.63694268\n",
      "   0.          0.          0.          0.          0.          0.\n",
      "   0.          0.          0.        ]\n",
      " [ 0.          0.          0.          0.          0.0191522   0.\n",
      "  -0.21872187  0.32160415  0.28683244 -0.08031031  0.          0.\n",
      "   0.          0.          0.00232517]]\n",
      "\n",
      "State variable label vector\n",
      "\n",
      "['Θ1', 'Θ3', 'Θ5', 'Θ9', 'Θ11', 'Θ13', 'Θ14', 'Θ22', 'Θ24']\n",
      "\n",
      "Input label vector\n",
      "\n",
      "['q0', 'q4', 'q6', 'q10', 'q17', 'q18', 'q24', 'q28', 'q29', 'q32', 'Θ0', 'Θ2', 'Θ4', 'Θ6', 'Θ24']\n",
      "\n",
      "Output label vector\n",
      "\n",
      "['Θ3', 'Θ7', 'Θ13', 'Θ14', 'Θ22']\n",
      "\n"
     ]
    }
   ],
   "source": [
    "[state_matrix, input_matrix, output_matrix, feedforward_matrix] = dm4bem.tc2ss(incidence_matrix, conductance_matrix, capacity_matrix, # A_s, B_s, C_s, D_s\n",
    "                                                                               temperature_source_vector, heat_flow_source_vector, output_vector)\n",
    "state_variable_label_vector = ['Θ1', 'Θ3', 'Θ5', 'Θ9', 'Θ11', 'Θ13', 'Θ14', 'Θ22', 'Θ24'] # Theta_s\n",
    "non_zero_temperature_source_label_vector = ['q0', 'q4', 'q6', 'q10', 'q17', 'q18', 'q24', 'q28', 'q29', 'q32'] # b_T\n",
    "non_zero_heat_flow_source_label_vector = ['Θ0', 'Θ2', 'Θ4', 'Θ6', 'Θ24'] # f_Q\n",
    "input_label_vector = non_zero_temperature_source_label_vector + non_zero_heat_flow_source_label_vector\n",
    "output_label_vector = ['Θ3', 'Θ7', 'Θ13', 'Θ14', 'Θ22'] # y\n",
    "\n",
    "print('State matrix:')\n",
    "print()\n",
    "print(state_matrix)\n",
    "print()\n",
    "print('Input matrix:')\n",
    "print()\n",
    "print(input_matrix)\n",
    "print()\n",
    "print('Output matrix')\n",
    "print()\n",
    "print(output_matrix)\n",
    "print()\n",
    "print('Feedforward matrix')\n",
    "print()\n",
    "print(feedforward_matrix)\n",
    "print()\n",
    "print('State variable label vector')\n",
    "print()\n",
    "print(state_variable_label_vector)\n",
    "print()\n",
    "print('Input label vector')\n",
    "print()\n",
    "print(input_label_vector)\n",
    "print()\n",
    "print('Output label vector')\n",
    "print()\n",
    "print(output_label_vector)\n",
    "print()"
   ]
  },
  {
   "cell_type": "markdown",
   "id": "5aacac92-0397-464e-8217-912bf5ad7091",
   "metadata": {
    "tags": []
   },
   "source": [
    "### Steady-state"
   ]
  },
  {
   "cell_type": "code",
   "execution_count": 25,
   "id": "057d723f-cec3-479f-988d-c02e4359d3b1",
   "metadata": {},
   "outputs": [
    {
     "name": "stdout",
     "output_type": "stream",
     "text": [
      "Temeprature source vector: [22  0  0  0  0  0 22  0  0  0  0  0  0  0  0  0  0  0  0  0  0  0  0  0\n",
      " 10  0  0  0 10  0  0  0 10  0  0  0]\n",
      "Heat flow source vector: [0. 0. 0. 0. 0. 0. 0. 0. 0. 0. 0. 0. 0. 0. 0. 0. 0. 0. 0. 0. 0. 0. 0. 0.\n",
      " 0.]\n"
     ]
    }
   ],
   "source": [
    "temperature_source_vector = np.zeros(number_of_branches) # b\n",
    "\"\"\"temperature_source_vector = np.array([22, 0, 0, 20, # R0-R3 - adjacent zone temperature source, indoor (setpoint) temperature soource\n",
    "                                      0, # R4 - adjacent zone temperature source\n",
    "                                      22, 0, 0, 20, # R5-R8 - adjacent zone temperature source, indoor (setpoint) temperature soource\n",
    "                                      0, 0, # R9-R10\n",
    "                                      0, 0, 0, 20, # R11-R14 - indoor (setpoint) temperature soource\n",
    "                                      20, 0, 0, 0, 0, 0, # R15-R20 - indoor (setpoint) temperature soource\n",
    "                                      0, 0, 12, 12]) # R21-R24 - outdoor temperature sources\"\"\"\n",
    "\n",
    "temperature_source_vector = np.array([22, 0, 0, 0, 0, # R0-R4\n",
    "                                      0, # R5\n",
    "                                      22, 0, 0, 0, 0, # R6-R10\n",
    "                                      0, 0, # R11-R12\n",
    "                                      0, 0, 0, 0, 0, # R13-R17\n",
    "                                      0, 0, 0, 0, 0, 0, 10, # R18-R24\n",
    "                                      0, 0, 0, 10, # R25-R28\n",
    "                                      0, 0, 0, 10, 0, # R29-R33\n",
    "                                      0, 0]) # R34-R35\n",
    "\n",
    "heat_flow_source_vector = np.zeros(number_of_nodes)\n",
    "\n",
    "print(f'Temeprature source vector: {temperature_source_vector}')\n",
    "print(f'Heat flow source vector: {heat_flow_source_vector}')"
   ]
  },
  {
   "cell_type": "markdown",
   "id": "528c0234-44d8-4f99-97b9-b43615af5761",
   "metadata": {
    "tags": []
   },
   "source": [
    "*Note*: Steady-state analysis is a test of [falsification (refutability)](https://en.m.wikipedia.org/wiki/Falsifiability) of the model, not a [verification and validation](https://en.m.wikipedia.org/wiki/Verification_and_validation). If the model does not pass the steady-state test, it means that it is wrong. If the model passes the steady-state test, it does not mean that it is correct. For example, the values of the capacities in matrix $C$ or of the conductances in matrix $G$ can be wrong even when the steady-state test is passed. "
   ]
  },
  {
   "cell_type": "markdown",
   "id": "2d9fe093-30f3-4654-8836-c69b5c4215a3",
   "metadata": {
    "tags": []
   },
   "source": [
    "#### Steady-state from differential algebraic equations (DAE)"
   ]
  },
  {
   "cell_type": "code",
   "execution_count": 26,
   "id": "a5612549-466d-4f50-93ce-09b1834a6164",
   "metadata": {},
   "outputs": [
    {
     "name": "stdout",
     "output_type": "stream",
     "text": [
      "State variable vector: [21.31057987 20.38724933 20.23163731 19.8685426  20.98239485 19.61953082\n",
      " 19.46977865 19.12035692 17.63870044 15.65787005 15.61754392  6.67858353\n",
      "  4.38194529  4.30330305  2.42470867  2.46901987  4.24582506  4.23485021\n",
      "  7.53550849 13.71736581 11.77686157 10.75957441  4.68707228  6.31452793\n",
      "  6.61879426]\n"
     ]
    }
   ],
   "source": [
    "state_variable_vector = np.linalg.inv(incidence_matrix.T @ conductance_matrix @ incidence_matrix) @ (incidence_matrix.T # theta\n",
    "                                      @ conductance_matrix @ temperature_source_vector + heat_flow_source_vector)\n",
    "\n",
    "print(f'State variable vector: {state_variable_vector}')"
   ]
  },
  {
   "cell_type": "markdown",
   "id": "a29cd51c-08bf-4395-a070-d2c074eee82d",
   "metadata": {
    "tags": []
   },
   "source": [
    "#### Steady-state from state-space representation"
   ]
  },
  {
   "cell_type": "code",
   "execution_count": 27,
   "id": "0db8cf38-59f2-4ce5-8b24-e11fe38a3ea3",
   "metadata": {
    "tags": []
   },
   "outputs": [],
   "source": [
    "#print(output_matrix.shape)\n",
    "#print(state_matrix.shape)\n",
    "#print(input_matrix.shape)\n",
    "#print(feedforward_matrix.shape)\n",
    "#print(input_vector.shape)\n",
    "#yss = (-Cs @ np.linalg.inv(As) @ Bs + Ds) @ u"
   ]
  },
  {
   "cell_type": "code",
   "execution_count": 28,
   "id": "3780da0d-8598-4f86-bb83-fc64e91fede7",
   "metadata": {
    "tags": []
   },
   "outputs": [
    {
     "name": "stdout",
     "output_type": "stream",
     "text": [
      "Non zero temperature source vector: [22  0 22  0  0  0 10 10  0 10]\n",
      "Non zero heat flow source vector: [0 0 0 0 0]\n",
      "Input vector: [22  0 22  0  0  0 10 10  0 10  0  0  0  0  0]\n",
      "Steady state output vector: [19.8685426  19.12035692  4.30330305  2.42470867  4.68707228]\n",
      "State variable vector (from previous code cell): [19.8685426  19.12035692  4.30330305  2.42470867  4.68707228]\n",
      "Error between state variable vector and steady state output vector: [3.55271368e-15 1.42108547e-14 2.75335310e-14 1.59872116e-14\n",
      " 7.99360578e-15]\n"
     ]
    }
   ],
   "source": [
    "non_zero_temperature_source_vector = np.array([22, 0, 22, 0, 0, 0, 10, 10, 0, 10]) # b_T\n",
    "non_zero_heat_flow_source_vector = np.array([0, 0, 0, 0, 0]) # f_Q\n",
    "input_vector = np.hstack([non_zero_temperature_source_vector, non_zero_heat_flow_source_vector]) # u\n",
    "\n",
    "steady_state_output_vector = (-output_matrix @ np.linalg.inv(state_matrix) @ input_matrix + feedforward_matrix) @ input_vector # y_ss\n",
    "\n",
    "error_between_state_variable_vector_and_steady_state_output_vector = abs(state_variable_vector[[3, 7, 13, 14, 22]] - steady_state_output_vector) # epsilon\n",
    "\n",
    "print(f'Non zero temperature source vector: {non_zero_temperature_source_vector}')\n",
    "print(f'Non zero heat flow source vector: {non_zero_heat_flow_source_vector}')\n",
    "print(f'Input vector: {input_vector}')\n",
    "print(f'Steady state output vector: {steady_state_output_vector}')\n",
    "print(f'State variable vector (from previous code cell): {state_variable_vector[[3, 7, 13, 14, 22]]}')\n",
    "print(f'Error between state variable vector and steady state output vector: {error_between_state_variable_vector_and_steady_state_output_vector}')"
   ]
  },
  {
   "cell_type": "markdown",
   "id": "747a5518-38c0-429a-9fbe-22154079afd1",
   "metadata": {
    "tags": []
   },
   "source": [
    "### Dynamic simulation"
   ]
  },
  {
   "cell_type": "markdown",
   "id": "9c0d162e-389e-4de3-b59f-76580adb72ea",
   "metadata": {
    "tags": []
   },
   "source": [
    "#### Time step"
   ]
  },
  {
   "cell_type": "code",
   "execution_count": null,
   "id": "6b9d8445-b942-4f49-aea4-c3b7d19c2209",
   "metadata": {
    "tags": []
   },
   "outputs": [],
   "source": []
  },
  {
   "cell_type": "code",
   "execution_count": 29,
   "id": "d634f2a6-d989-42f4-8f51-d973d63b5027",
   "metadata": {},
   "outputs": [
    {
     "name": "stdout",
     "output_type": "stream",
     "text": [
      "State matrix eigenvalues:\n",
      "\n",
      "[-4.53244038e-03 -1.80430502e-04 -6.51315690e-05 -2.75267182e-05]\n",
      "\n",
      "Time constants: [  220.63169406  5542.30016456 15353.53768799 36328.34082333]\n",
      "Doubled time constants: [  441.26338812 11084.60032912 30707.07537598 72656.68164667]\n",
      "Maximum time step: 441.2633881212329\n",
      "Time step: 420.0\n"
     ]
    }
   ],
   "source": [
    "state_matrix_eigenvalues = np.linalg.eig(state_matrix)[0] # lambda\n",
    "state_matrix_eigenvalues = np.sort(state_matrix_eigenvalues)\n",
    "\n",
    "time_constants = -1 / state_matrix_eigenvalues # T_i\n",
    "doubled_time_constants = 2 * time_constants\n",
    "maximum_doubled_time_step = min(doubled_time_constants) # dt_max\n",
    "\n",
    "time_step = np.floor(maximum_doubled_time_step / 60) * 60 # s, delta t\n",
    "\n",
    "print('State matrix eigenvalues:')\n",
    "print()\n",
    "print(state_matrix_eigenvalues)\n",
    "print()\n",
    "print(f'Time constants: {time_constants}')\n",
    "print(f'Doubled time constants: {doubled_time_constants}')\n",
    "print(f'Maximum time step: {maximum_doubled_time_step}')\n",
    "print(f'Time step: {time_step}')"
   ]
  },
  {
   "cell_type": "markdown",
   "id": "0d83dfe8-fe63-42c9-b913-47b1019d1a00",
   "metadata": {},
   "source": [
    "#### Settling time"
   ]
  },
  {
   "cell_type": "code",
   "execution_count": 30,
   "id": "89a7aa43-6fb4-46d8-bb9b-5fbd15a7102e",
   "metadata": {},
   "outputs": [
    {
     "name": "stdout",
     "output_type": "stream",
     "text": [
      "Quadrupled integered sorted time constants: [   880  22168  61412 145312]\n",
      "Settling time: 145313.3632933319\n"
     ]
    }
   ],
   "source": [
    "integered_sorted_time_constants = np.array([int(x) for x in sorted(-1 / state_matrix_eigenvalues)])\n",
    "settling_time = 4 * max(-1 / state_matrix_eigenvalues) # t_settle\n",
    "\n",
    "print(f'Quadrupled integered sorted time constants: {4 * integered_sorted_time_constants}')\n",
    "print(f'Settling time: {settling_time}')"
   ]
  },
  {
   "cell_type": "markdown",
   "id": "1dac581d-272f-4cdd-8843-eeb44dd6a58d",
   "metadata": {
    "tags": []
   },
   "source": [
    "#### Step response"
   ]
  },
  {
   "cell_type": "markdown",
   "id": "1b6c3b2e-a60b-4b97-8a10-3c6c3b11ce8a",
   "metadata": {},
   "source": [
    "##### Duration"
   ]
  },
  {
   "cell_type": "code",
   "execution_count": 31,
   "id": "6062f401-b335-460a-bbba-61ddeb700662",
   "metadata": {},
   "outputs": [
    {
     "name": "stdout",
     "output_type": "stream",
     "text": [
      "Simulation duration: 147600.0\n",
      "Number of time steps: 351\n",
      "\n",
      "Time steps:\n",
      "\n",
      "[     0.    420.    840.   1260.   1680.   2100.   2520.   2940.   3360.\n",
      "   3780.   4200.   4620.   5040.   5460.   5880.   6300.   6720.   7140.\n",
      "   7560.   7980.   8400.   8820.   9240.   9660.  10080.  10500.  10920.\n",
      "  11340.  11760.  12180.  12600.  13020.  13440.  13860.  14280.  14700.\n",
      "  15120.  15540.  15960.  16380.  16800.  17220.  17640.  18060.  18480.\n",
      "  18900.  19320.  19740.  20160.  20580.  21000.  21420.  21840.  22260.\n",
      "  22680.  23100.  23520.  23940.  24360.  24780.  25200.  25620.  26040.\n",
      "  26460.  26880.  27300.  27720.  28140.  28560.  28980.  29400.  29820.\n",
      "  30240.  30660.  31080.  31500.  31920.  32340.  32760.  33180.  33600.\n",
      "  34020.  34440.  34860.  35280.  35700.  36120.  36540.  36960.  37380.\n",
      "  37800.  38220.  38640.  39060.  39480.  39900.  40320.  40740.  41160.\n",
      "  41580.  42000.  42420.  42840.  43260.  43680.  44100.  44520.  44940.\n",
      "  45360.  45780.  46200.  46620.  47040.  47460.  47880.  48300.  48720.\n",
      "  49140.  49560.  49980.  50400.  50820.  51240.  51660.  52080.  52500.\n",
      "  52920.  53340.  53760.  54180.  54600.  55020.  55440.  55860.  56280.\n",
      "  56700.  57120.  57540.  57960.  58380.  58800.  59220.  59640.  60060.\n",
      "  60480.  60900.  61320.  61740.  62160.  62580.  63000.  63420.  63840.\n",
      "  64260.  64680.  65100.  65520.  65940.  66360.  66780.  67200.  67620.\n",
      "  68040.  68460.  68880.  69300.  69720.  70140.  70560.  70980.  71400.\n",
      "  71820.  72240.  72660.  73080.  73500.  73920.  74340.  74760.  75180.\n",
      "  75600.  76020.  76440.  76860.  77280.  77700.  78120.  78540.  78960.\n",
      "  79380.  79800.  80220.  80640.  81060.  81480.  81900.  82320.  82740.\n",
      "  83160.  83580.  84000.  84420.  84840.  85260.  85680.  86100.  86520.\n",
      "  86940.  87360.  87780.  88200.  88620.  89040.  89460.  89880.  90300.\n",
      "  90720.  91140.  91560.  91980.  92400.  92820.  93240.  93660.  94080.\n",
      "  94500.  94920.  95340.  95760.  96180.  96600.  97020.  97440.  97860.\n",
      "  98280.  98700.  99120.  99540.  99960. 100380. 100800. 101220. 101640.\n",
      " 102060. 102480. 102900. 103320. 103740. 104160. 104580. 105000. 105420.\n",
      " 105840. 106260. 106680. 107100. 107520. 107940. 108360. 108780. 109200.\n",
      " 109620. 110040. 110460. 110880. 111300. 111720. 112140. 112560. 112980.\n",
      " 113400. 113820. 114240. 114660. 115080. 115500. 115920. 116340. 116760.\n",
      " 117180. 117600. 118020. 118440. 118860. 119280. 119700. 120120. 120540.\n",
      " 120960. 121380. 121800. 122220. 122640. 123060. 123480. 123900. 124320.\n",
      " 124740. 125160. 125580. 126000. 126420. 126840. 127260. 127680. 128100.\n",
      " 128520. 128940. 129360. 129780. 130200. 130620. 131040. 131460. 131880.\n",
      " 132300. 132720. 133140. 133560. 133980. 134400. 134820. 135240. 135660.\n",
      " 136080. 136500. 136920. 137340. 137760. 138180. 138600. 139020. 139440.\n",
      " 139860. 140280. 140700. 141120. 141540. 141960. 142380. 142800. 143220.\n",
      " 143640. 144060. 144480. 144900. 145320. 145740. 146160. 146580. 147000.]\n"
     ]
    }
   ],
   "source": [
    "simulation_duration = np.ceil(settling_time / 3600) * 3600\n",
    "number_of_time_steps = int(np.floor(simulation_duration / time_step)) # n\n",
    "time_steps = np.arange(0, number_of_time_steps * time_step, time_step) # t\n",
    "\n",
    "print(f'Simulation duration: {simulation_duration}')\n",
    "print(f'Number of time steps: {number_of_time_steps}')\n",
    "print()\n",
    "print('Time steps:')\n",
    "print()\n",
    "print(time_steps)"
   ]
  },
  {
   "cell_type": "markdown",
   "id": "e1cf346d-6283-4095-aa29-6dc378f54eb6",
   "metadata": {
    "tags": []
   },
   "source": [
    "###### Input vector"
   ]
  },
  {
   "cell_type": "code",
   "execution_count": 32,
   "id": "3da47c23-3af1-4515-b919-2b394a655a2f",
   "metadata": {},
   "outputs": [
    {
     "name": "stdout",
     "output_type": "stream",
     "text": [
      "Input vector:\n",
      "\n",
      "[[22.  0. 22. ...  0.  0.  0.]\n",
      " [22.  0. 22. ...  0.  0.  0.]\n",
      " [22.  0. 22. ...  0.  0.  0.]\n",
      " ...\n",
      " [22.  0. 22. ...  0.  0.  0.]\n",
      " [22.  0. 22. ...  0.  0.  0.]\n",
      " [22.  0. 22. ...  0.  0.  0.]]\n"
     ]
    }
   ],
   "source": [
    "input_vector = np.zeros([number_of_time_steps, 15]) # u\n",
    "#non_zero_temperature_source_vector = np.array([22, 20, 22, 20, 20, 20, 12, 12]) # b_T\n",
    "#non_zero_heat_flow_source_vector = np.array([0, 0]) # f_Q\n",
    "input_vector[:, 0] = 22\n",
    "input_vector[:, 2] = 22\n",
    "input_vector[:, 6] = 10\n",
    "input_vector[:, 7] = 10\n",
    "input_vector[:, 9] = 10\n",
    "\n",
    "print('Input vector:')\n",
    "print()\n",
    "print(input_vector)"
   ]
  },
  {
   "cell_type": "markdown",
   "id": "c26d5657-c137-46c9-93e2-6340e13f9d7d",
   "metadata": {
    "tags": []
   },
   "source": [
    "###### Time integration"
   ]
  },
  {
   "cell_type": "code",
   "execution_count": 33,
   "id": "c6e318a6-782e-4976-8b9e-3f5bd0d01797",
   "metadata": {},
   "outputs": [
    {
     "data": {
      "image/png": "[encoded data removed]",
      "text/plain": [
       "<Figure size 640x480 with 1 Axes>"
      ]
     },
     "metadata": {},
     "output_type": "display_data"
    },
    {
     "data": {
      "image/png": "[encoded data removed]",
      "text/plain": [
       "<Figure size 640x480 with 1 Axes>"
      ]
     },
     "metadata": {},
     "output_type": "display_data"
    },
    {
     "name": "stdout",
     "output_type": "stream",
     "text": [
      "Steady state DAE model indoor temperatures: (19.868542602976106, 19.120356922003104, 4.303303053261081, 2.4247086716940736, 4.687072275339936)\n",
      "Steady state state-space model indoor temperatures: (19.86854260297611, 19.12035692200312, 4.303303053261109, 2.4247086716940895, 4.687072275339944)\n",
      "Steady state response to step input indoor temperatures: (19.64511234012268, 18.867602341641188, 4.205807870289772, 2.3751080053796656, 4.576809966036411)\n"
     ]
    }
   ],
   "source": [
    "number_of_state_variables = state_matrix.shape[0] # n_s\n",
    "explicit_euler_state_variable_matrix = np.zeros([number_of_state_variables, time_steps.shape[0]]) # theta_exp\n",
    "implicit_euler_state_variable_matrix = np.zeros([number_of_state_variables, time_steps.shape[0]]) # theta_imp\n",
    "\n",
    "identity_matrix = np.eye(number_of_state_variables) # I\n",
    "\n",
    "for k in range(number_of_time_steps - 1):\n",
    "    explicit_euler_state_variable_matrix[:, k + 1] = ((identity_matrix + time_step * state_matrix) @ explicit_euler_state_variable_matrix[:, k]\n",
    "                                                       + time_step * input_matrix @ input_vector[k, :])\n",
    "    implicit_euler_state_variable_matrix[:, k + 1] = (np.linalg.inv(identity_matrix - time_step * state_matrix) @ (implicit_euler_state_variable_matrix[:, k]\n",
    "                                                      + time_step * input_matrix @ input_vector[k, :]))\n",
    "\n",
    "explicit_euler_output_matrix = output_matrix @ explicit_euler_state_variable_matrix + feedforward_matrix @ input_vector.T # y_exp \n",
    "implicit_euler_output_matrix = output_matrix @ implicit_euler_state_variable_matrix + feedforward_matrix @ input_vector.T # y_imp\n",
    "\n",
    "mpl.figure()\n",
    "mpl.plot(time_steps / 3600, explicit_euler_output_matrix.T[:, 0], label=r'$\\theta 3$')\n",
    "mpl.plot(time_steps / 3600, explicit_euler_output_matrix.T[:, 1], label=r'$\\theta 7$')\n",
    "mpl.plot(time_steps / 3600, explicit_euler_output_matrix.T[:, 2], label=r'$\\theta 13$')\n",
    "mpl.plot(time_steps / 3600, explicit_euler_output_matrix.T[:, 3], label=r'$\\theta 14$')\n",
    "mpl.plot(time_steps / 3600, explicit_euler_output_matrix.T[:, 0], label=r'$\\theta 22$')\n",
    "mpl.title('Step response to outdoor temperature with explicit Euler method')\n",
    "mpl.xlabel('Time, $t$ / h')\n",
    "mpl.ylabel('Temperature, ${\\theta}_i / \\degree C$')\n",
    "mpl.legend()\n",
    "mpl.show()\n",
    "\n",
    "mpl.plot(time_steps / 3600, implicit_euler_output_matrix.T[:, 0], label=r'$\\theta 3$')\n",
    "mpl.plot(time_steps / 3600, implicit_euler_output_matrix.T[:, 1], label=r'$\\theta 7$')\n",
    "mpl.plot(time_steps / 3600, implicit_euler_output_matrix.T[:, 2], label=r'$\\theta 13$')\n",
    "mpl.plot(time_steps / 3600, implicit_euler_output_matrix.T[:, 3], label=r'$\\theta 14$')\n",
    "mpl.plot(time_steps / 3600, implicit_euler_output_matrix.T[:, 0], label=r'$\\theta 22$')\n",
    "mpl.title('Step response to outdoor temperature with implicit Euler method')\n",
    "mpl.xlabel('Time, $t$ / h')\n",
    "mpl.ylabel('Temperature, ${\\theta}_i / \\degree C$')\n",
    "mpl.legend()\n",
    "mpl.show()\n",
    "\n",
    "print(f'Steady state DAE model indoor temperatures: {state_variable_vector[3], state_variable_vector[7], state_variable_vector[13], state_variable_vector[14], state_variable_vector[22]}')\n",
    "print(f'Steady state state-space model indoor temperatures: {steady_state_output_vector[0], steady_state_output_vector[1], steady_state_output_vector[2], steady_state_output_vector[3], steady_state_output_vector[4]}')\n",
    "print(f'Steady state response to step input indoor temperatures: {explicit_euler_output_matrix[0, -1], explicit_euler_output_matrix[1, -1], explicit_euler_output_matrix[2, -1], explicit_euler_output_matrix[3, -1], explicit_euler_output_matrix[4, -1]}') # TODO: Why did we work with -2? Are the results reasonable?"
   ]
  },
  {
   "cell_type": "markdown",
   "id": "0912b7bf-c1bd-4606-b5c4-095f3d4c581b",
   "metadata": {
    "tags": []
   },
   "source": [
    "#### Simulation with weather data"
   ]
  },
  {
   "cell_type": "markdown",
   "id": "55fecef0-f660-47d1-a1d4-bc06ad4bc997",
   "metadata": {
    "tags": []
   },
   "source": [
    "##### Start and end time"
   ]
  },
  {
   "cell_type": "code",
   "execution_count": 34,
   "id": "53f451dc-4055-432f-bfb9-575ab072be50",
   "metadata": {},
   "outputs": [
    {
     "name": "stdout",
     "output_type": "stream",
     "text": [
      "Simulation start date: 2004-04-01 12:00:00\n",
      "Simulation end date: 2004-04-07 18:00:00\n"
     ]
    }
   ],
   "source": [
    "simulation_start_date = '04-01 12:00:00' # 02-01\n",
    "simulation_end_date = '04-07 18:00:00' # 02-07\n",
    "simulation_start_date = '2004-' + simulation_start_date\n",
    "simulation_end_date = '2004-' + simulation_end_date\n",
    "\n",
    "print(f'Simulation start date: {simulation_start_date}')\n",
    "print(f'Simulation end date: {simulation_end_date}')"
   ]
  },
  {
   "cell_type": "markdown",
   "id": "904f198e-960b-4045-93f4-1b9a34057ae0",
   "metadata": {
    "tags": []
   },
   "source": [
    "##### Inputs"
   ]
  },
  {
   "cell_type": "markdown",
   "id": "8906e831-c950-47d3-aefe-b1d3d2411fd5",
   "metadata": {},
   "source": [
    "###### Read weather data"
   ]
  },
  {
   "cell_type": "code",
   "execution_count": 35,
   "id": "d2d7d382-98c6-436f-a3da-766052220313",
   "metadata": {},
   "outputs": [
    {
     "name": "stdout",
     "output_type": "stream",
     "text": [
      "                           temp_air  dir_n_rad  dif_h_rad\n",
      "2004-04-01 12:00:00+01:00       9.7        776        173\n",
      "2004-04-01 13:00:00+01:00      10.7        773        167\n",
      "2004-04-01 14:00:00+01:00      11.1        773        132\n",
      "2004-04-01 15:00:00+01:00      12.5        720        108\n",
      "2004-04-01 16:00:00+01:00      13.3        454        139\n",
      "...                             ...        ...        ...\n",
      "2004-04-07 14:00:00+01:00       2.7         56        334\n",
      "2004-04-07 15:00:00+01:00       1.1         16        206\n",
      "2004-04-07 16:00:00+01:00       1.5          7        170\n",
      "2004-04-07 17:00:00+01:00       2.6         52         98\n",
      "2004-04-07 18:00:00+01:00       2.0          0         13\n",
      "\n",
      "[151 rows x 3 columns]\n"
     ]
    }
   ],
   "source": [
    "file_name = './weather_data/CHE_SG_St.Gallen.066810_TMYx.2004-2018.epw'\n",
    "[data, meta] = dm4bem.read_epw(file_name, coerce_year=None)\n",
    "weather_variables = data[['temp_air', 'dir_n_rad', 'dif_h_rad']]\n",
    "del data\n",
    "\n",
    "weather_variables.index = weather_variables.index.map(lambda t: t.replace(year=2004))\n",
    "weather_variables = weather_variables.loc[simulation_start_date: simulation_end_date]\n",
    "\n",
    "print(weather_variables)"
   ]
  },
  {
   "cell_type": "markdown",
   "id": "71b03819-1b8d-4a54-9c8a-fb56364d07ac",
   "metadata": {},
   "source": [
    "###### Solar irradiance on the walls"
   ]
  },
  {
   "cell_type": "code",
   "execution_count": 36,
   "id": "e79c6269-6464-418c-ab8a-9a8cf28e9e03",
   "metadata": {},
   "outputs": [
    {
     "name": "stdout",
     "output_type": "stream",
     "text": [
      "Surface orientation:\n",
      "{'slope': 90, 'azimuth': 0, 'latitude': 45}\n",
      "\n",
      "Albedo: 0.2\n",
      "\n",
      "Tilted surface radiation:\n",
      "\n",
      "                                 direct  diffuse   reflected  \\\n",
      "2004-04-01 12:00:00+01:00  4.862161e+02     86.5  148.735125   \n",
      "2004-04-01 13:00:00+01:00  4.298934e+02     83.5  136.205286   \n",
      "2004-04-01 14:00:00+01:00  3.432872e+02     66.0  111.884034   \n",
      "2004-04-01 15:00:00+01:00  2.146212e+02     54.0   80.197138   \n",
      "2004-04-01 16:00:00+01:00  5.813475e+01     69.5   49.309583   \n",
      "...                                 ...      ...         ...   \n",
      "2004-04-07 14:00:00+01:00  2.314058e+01    167.0   73.293908   \n",
      "2004-04-07 15:00:00+01:00  4.284762e+00    103.0   42.590036   \n",
      "2004-04-07 16:00:00+01:00  6.891099e-01     85.0   34.371046   \n",
      "2004-04-07 17:00:00+01:00  3.184082e-15     49.0   20.466260   \n",
      "2004-04-07 18:00:00+01:00  0.000000e+00      6.5    2.600000   \n",
      "\n",
      "                           total_solar_irradiance  \n",
      "2004-04-01 12:00:00+01:00              721.451243  \n",
      "2004-04-01 13:00:00+01:00              649.598731  \n",
      "2004-04-01 14:00:00+01:00              521.171216  \n",
      "2004-04-01 15:00:00+01:00              348.818337  \n",
      "2004-04-01 16:00:00+01:00              176.944337  \n",
      "...                                           ...  \n",
      "2004-04-07 14:00:00+01:00              263.434488  \n",
      "2004-04-07 15:00:00+01:00              149.874798  \n",
      "2004-04-07 16:00:00+01:00              120.060156  \n",
      "2004-04-07 17:00:00+01:00               69.466260  \n",
      "2004-04-07 18:00:00+01:00                9.100000  \n",
      "\n",
      "[151 rows x 4 columns]\n"
     ]
    }
   ],
   "source": [
    "surface_orientation = {'slope': 90,\n",
    "                       'azimuth': 0,\n",
    "                       'latitude': 45}\n",
    "albedo = 0.2\n",
    "tilted_surface_radiation = dm4bem.sol_rad_tilt_surf(weather_variables, surface_orientation, albedo)\n",
    "tilted_surface_radiation['total_solar_irradiance'] = tilted_surface_radiation.sum(axis=1) # W/m^2, E_tot\n",
    "\n",
    "print('Surface orientation:')\n",
    "print(surface_orientation)\n",
    "print()\n",
    "print(f'Albedo: {albedo}')\n",
    "print()\n",
    "print('Tilted surface radiation:')\n",
    "print()\n",
    "print(tilted_surface_radiation)"
   ]
  },
  {
   "cell_type": "markdown",
   "id": "bacf20a0-9eef-41cd-b97c-a66da45a9f18",
   "metadata": {
    "tags": []
   },
   "source": [
    "###### Resample the weather data\n"
   ]
  },
  {
   "cell_type": "code",
   "execution_count": 37,
   "id": "93c1c908-ff9c-444a-9c69-b5e77270d87a",
   "metadata": {},
   "outputs": [
    {
     "name": "stdout",
     "output_type": "stream",
     "text": [
      "Weather data:\n",
      "\n",
      "                            To  total_solar_irradiance\n",
      "Time                                                  \n",
      "2004-04-01 11:54:00+01:00  NaN                     NaN\n",
      "2004-04-01 12:01:00+01:00  NaN                     NaN\n",
      "2004-04-01 12:08:00+01:00  NaN                     NaN\n",
      "2004-04-01 12:15:00+01:00  NaN                     NaN\n",
      "2004-04-01 12:22:00+01:00  NaN                     NaN\n",
      "...                        ...                     ...\n",
      "2004-04-07 17:28:00+01:00  2.6                69.46626\n",
      "2004-04-07 17:35:00+01:00  2.6                69.46626\n",
      "2004-04-07 17:42:00+01:00  2.6                69.46626\n",
      "2004-04-07 17:49:00+01:00  2.6                69.46626\n",
      "2004-04-07 17:56:00+01:00  2.6                69.46626\n",
      "\n",
      "[1287 rows x 2 columns]\n",
      "                                  To  total_solar_irradiance\n",
      "Time                                                        \n",
      "2004-04-01 14:00:00+01:00  11.100000              521.171216\n",
      "2004-04-01 14:07:00+01:00  11.071667              512.485029\n",
      "2004-04-01 14:14:00+01:00  11.043333              503.798842\n",
      "2004-04-01 14:21:00+01:00  11.015000              495.112655\n",
      "2004-04-01 14:28:00+01:00  10.986667              486.426468\n",
      "...                              ...                     ...\n",
      "2004-04-07 17:28:00+01:00   2.600000               69.466260\n",
      "2004-04-07 17:35:00+01:00   2.600000               69.466260\n",
      "2004-04-07 17:42:00+01:00   2.600000               69.466260\n",
      "2004-04-07 17:49:00+01:00   2.600000               69.466260\n",
      "2004-04-07 17:56:00+01:00   2.600000               69.466260\n",
      "\n",
      "[1269 rows x 2 columns]\n"
     ]
    }
   ],
   "source": [
    "data = pd.concat([weather_variables['temp_air'], tilted_surface_radiation['total_solar_irradiance']], axis=1)\n",
    "data = data.resample(str(time_step) + 'S').interpolate(method='linear')\n",
    "data = data.rename(columns={'temp_air': 'To'})\n",
    "data = data.rename_axis('Time')\n",
    "\n",
    "print('Weather data:')\n",
    "print()\n",
    "print(data)\n",
    "#print(data.iloc[0])\n",
    "#print(data.iloc[0:17])\n",
    "#data['To'].isna().sum()\n",
    "\n",
    "data = data[data['To'].notna()]\n",
    "print(data)"
   ]
  },
  {
   "cell_type": "markdown",
   "id": "11dc5a18-d6d6-4491-b78d-4aaaa2086d85",
   "metadata": {
    "tags": []
   },
   "source": [
    "###### Other inputs"
   ]
  },
  {
   "cell_type": "code",
   "execution_count": 38,
   "id": "6d61f97c-5a6b-4bef-9353-7036b195eafa",
   "metadata": {},
   "outputs": [
    {
     "name": "stdout",
     "output_type": "stream",
     "text": [
      "Weather data:\n",
      "\n",
      "                                  To  total_solar_irradiance  \\\n",
      "Time                                                           \n",
      "2004-04-01 14:00:00+01:00  11.100000              521.171216   \n",
      "2004-04-01 14:07:00+01:00  11.071667              512.485029   \n",
      "2004-04-01 14:14:00+01:00  11.043333              503.798842   \n",
      "2004-04-01 14:21:00+01:00  11.015000              495.112655   \n",
      "2004-04-01 14:28:00+01:00  10.986667              486.426468   \n",
      "...                              ...                     ...   \n",
      "2004-04-07 17:28:00+01:00   2.600000               69.466260   \n",
      "2004-04-07 17:35:00+01:00   2.600000               69.466260   \n",
      "2004-04-07 17:42:00+01:00   2.600000               69.466260   \n",
      "2004-04-07 17:49:00+01:00   2.600000               69.466260   \n",
      "2004-04-07 17:56:00+01:00   2.600000               69.466260   \n",
      "\n",
      "                           adjacent_zone_temperature_setpoint  \\\n",
      "Time                                                            \n",
      "2004-04-01 14:00:00+01:00                                22.0   \n",
      "2004-04-01 14:07:00+01:00                                22.0   \n",
      "2004-04-01 14:14:00+01:00                                22.0   \n",
      "2004-04-01 14:21:00+01:00                                22.0   \n",
      "2004-04-01 14:28:00+01:00                                22.0   \n",
      "...                                                       ...   \n",
      "2004-04-07 17:28:00+01:00                                22.0   \n",
      "2004-04-07 17:35:00+01:00                                22.0   \n",
      "2004-04-07 17:42:00+01:00                                22.0   \n",
      "2004-04-07 17:49:00+01:00                                22.0   \n",
      "2004-04-07 17:56:00+01:00                                22.0   \n",
      "\n",
      "                           indoor_temperature_setpoint  \\\n",
      "Time                                                     \n",
      "2004-04-01 14:00:00+01:00                          0.0   \n",
      "2004-04-01 14:07:00+01:00                          0.0   \n",
      "2004-04-01 14:14:00+01:00                          0.0   \n",
      "2004-04-01 14:21:00+01:00                          0.0   \n",
      "2004-04-01 14:28:00+01:00                          0.0   \n",
      "...                                                ...   \n",
      "2004-04-07 17:28:00+01:00                          0.0   \n",
      "2004-04-07 17:35:00+01:00                          0.0   \n",
      "2004-04-07 17:42:00+01:00                          0.0   \n",
      "2004-04-07 17:49:00+01:00                          0.0   \n",
      "2004-04-07 17:56:00+01:00                          0.0   \n",
      "\n",
      "                           auxiliary_heat_flow_rate  \n",
      "Time                                                 \n",
      "2004-04-01 14:00:00+01:00                       0.0  \n",
      "2004-04-01 14:07:00+01:00                       0.0  \n",
      "2004-04-01 14:14:00+01:00                       0.0  \n",
      "2004-04-01 14:21:00+01:00                       0.0  \n",
      "2004-04-01 14:28:00+01:00                       0.0  \n",
      "...                                             ...  \n",
      "2004-04-07 17:28:00+01:00                       0.0  \n",
      "2004-04-07 17:35:00+01:00                       0.0  \n",
      "2004-04-07 17:42:00+01:00                       0.0  \n",
      "2004-04-07 17:49:00+01:00                       0.0  \n",
      "2004-04-07 17:56:00+01:00                       0.0  \n",
      "\n",
      "[1269 rows x 5 columns]\n"
     ]
    }
   ],
   "source": [
    "data['adjacent_zone_temperature_setpoint'] = 22 * np.ones(data.shape[0]) # T_a-sp\n",
    "data['indoor_temperature_setpoint'] = 0 * np.ones(data.shape[0]) # T_i-sp\n",
    "data['auxiliary_heat_flow_rate'] = 0 * np.ones(data.shape[0]) #Q_a \n",
    "\n",
    "print('Weather data:')\n",
    "print()\n",
    "print(data)"
   ]
  },
  {
   "cell_type": "markdown",
   "id": "9c94a6eb-0994-47e7-8784-0572e76963db",
   "metadata": {
    "tags": []
   },
   "source": [
    "###### Input vector in time"
   ]
  },
  {
   "cell_type": "code",
   "execution_count": 39,
   "id": "db467b23-2de7-402b-8705-47343e829aca",
   "metadata": {
    "tags": []
   },
   "outputs": [
    {
     "name": "stdout",
     "output_type": "stream",
     "text": [
      "                                  To  total_solar_irradiance  \\\n",
      "Time                                                           \n",
      "2004-04-01 14:00:00+01:00  11.100000              521.171216   \n",
      "2004-04-01 14:07:00+01:00  11.071667              512.485029   \n",
      "2004-04-01 14:14:00+01:00  11.043333              503.798842   \n",
      "2004-04-01 14:21:00+01:00  11.015000              495.112655   \n",
      "2004-04-01 14:28:00+01:00  10.986667              486.426468   \n",
      "...                              ...                     ...   \n",
      "2004-04-07 17:28:00+01:00   2.600000               69.466260   \n",
      "2004-04-07 17:35:00+01:00   2.600000               69.466260   \n",
      "2004-04-07 17:42:00+01:00   2.600000               69.466260   \n",
      "2004-04-07 17:49:00+01:00   2.600000               69.466260   \n",
      "2004-04-07 17:56:00+01:00   2.600000               69.466260   \n",
      "\n",
      "                           adjacent_zone_temperature_setpoint  \\\n",
      "Time                                                            \n",
      "2004-04-01 14:00:00+01:00                                22.0   \n",
      "2004-04-01 14:07:00+01:00                                22.0   \n",
      "2004-04-01 14:14:00+01:00                                22.0   \n",
      "2004-04-01 14:21:00+01:00                                22.0   \n",
      "2004-04-01 14:28:00+01:00                                22.0   \n",
      "...                                                       ...   \n",
      "2004-04-07 17:28:00+01:00                                22.0   \n",
      "2004-04-07 17:35:00+01:00                                22.0   \n",
      "2004-04-07 17:42:00+01:00                                22.0   \n",
      "2004-04-07 17:49:00+01:00                                22.0   \n",
      "2004-04-07 17:56:00+01:00                                22.0   \n",
      "\n",
      "                           indoor_temperature_setpoint  \\\n",
      "Time                                                     \n",
      "2004-04-01 14:00:00+01:00                          0.0   \n",
      "2004-04-01 14:07:00+01:00                          0.0   \n",
      "2004-04-01 14:14:00+01:00                          0.0   \n",
      "2004-04-01 14:21:00+01:00                          0.0   \n",
      "2004-04-01 14:28:00+01:00                          0.0   \n",
      "...                                                ...   \n",
      "2004-04-07 17:28:00+01:00                          0.0   \n",
      "2004-04-07 17:35:00+01:00                          0.0   \n",
      "2004-04-07 17:42:00+01:00                          0.0   \n",
      "2004-04-07 17:49:00+01:00                          0.0   \n",
      "2004-04-07 17:56:00+01:00                          0.0   \n",
      "\n",
      "                           auxiliary_heat_flow_rate  \n",
      "Time                                                 \n",
      "2004-04-01 14:00:00+01:00                       0.0  \n",
      "2004-04-01 14:07:00+01:00                       0.0  \n",
      "2004-04-01 14:14:00+01:00                       0.0  \n",
      "2004-04-01 14:21:00+01:00                       0.0  \n",
      "2004-04-01 14:28:00+01:00                       0.0  \n",
      "...                                             ...  \n",
      "2004-04-07 17:28:00+01:00                       0.0  \n",
      "2004-04-07 17:35:00+01:00                       0.0  \n",
      "2004-04-07 17:42:00+01:00                       0.0  \n",
      "2004-04-07 17:49:00+01:00                       0.0  \n",
      "2004-04-07 17:56:00+01:00                       0.0  \n",
      "\n",
      "[1269 rows x 5 columns]\n"
     ]
    }
   ],
   "source": [
    "print(data)"
   ]
  },
  {
   "cell_type": "code",
   "execution_count": null,
   "id": "4e368820-71d4-437e-8cd8-f81d9c9aa847",
   "metadata": {},
   "outputs": [],
   "source": []
  },
  {
   "cell_type": "code",
   "execution_count": 40,
   "id": "6b9bf1da-df99-4c29-a995-a37235f92e2c",
   "metadata": {
    "tags": []
   },
   "outputs": [
    {
     "name": "stdout",
     "output_type": "stream",
     "text": [
      "Outdoor temperature time series vector:\n",
      "\n",
      "Time\n",
      "2004-04-01 14:00:00+01:00    11.100000\n",
      "2004-04-01 14:07:00+01:00    11.071667\n",
      "2004-04-01 14:14:00+01:00    11.043333\n",
      "2004-04-01 14:21:00+01:00    11.015000\n",
      "2004-04-01 14:28:00+01:00    10.986667\n",
      "                               ...    \n",
      "2004-04-07 17:28:00+01:00     2.600000\n",
      "2004-04-07 17:35:00+01:00     2.600000\n",
      "2004-04-07 17:42:00+01:00     2.600000\n",
      "2004-04-07 17:49:00+01:00     2.600000\n",
      "2004-04-07 17:56:00+01:00     2.600000\n",
      "Freq: 420S, Name: To, Length: 1269, dtype: float64\n",
      "\n",
      "Adjacent zone temperature setpoint time series vector:\n",
      "\n",
      "Time\n",
      "2004-04-01 14:00:00+01:00    22.0\n",
      "2004-04-01 14:07:00+01:00    22.0\n",
      "2004-04-01 14:14:00+01:00    22.0\n",
      "2004-04-01 14:21:00+01:00    22.0\n",
      "2004-04-01 14:28:00+01:00    22.0\n",
      "                             ... \n",
      "2004-04-07 17:28:00+01:00    22.0\n",
      "2004-04-07 17:35:00+01:00    22.0\n",
      "2004-04-07 17:42:00+01:00    22.0\n",
      "2004-04-07 17:49:00+01:00    22.0\n",
      "2004-04-07 17:56:00+01:00    22.0\n",
      "Freq: 420S, Name: adjacent_zone_temperature_setpoint, Length: 1269, dtype: float64\n",
      "\n",
      "Indoor temperature setpoint time series vector:\n",
      "\n",
      "Time\n",
      "2004-04-01 14:00:00+01:00    0.0\n",
      "2004-04-01 14:07:00+01:00    0.0\n",
      "2004-04-01 14:14:00+01:00    0.0\n",
      "2004-04-01 14:21:00+01:00    0.0\n",
      "2004-04-01 14:28:00+01:00    0.0\n",
      "                            ... \n",
      "2004-04-07 17:28:00+01:00    0.0\n",
      "2004-04-07 17:35:00+01:00    0.0\n",
      "2004-04-07 17:42:00+01:00    0.0\n",
      "2004-04-07 17:49:00+01:00    0.0\n",
      "2004-04-07 17:56:00+01:00    0.0\n",
      "Freq: 420S, Name: indoor_temperature_setpoint, Length: 1269, dtype: float64\n",
      "\n",
      "Outdoor wall surface short wave radiation time series vector:\n",
      "\n",
      "Time\n",
      "2004-04-01 14:00:00+01:00    4641.681144\n",
      "2004-04-01 14:07:00+01:00    4564.319792\n",
      "2004-04-01 14:14:00+01:00    4486.958440\n",
      "2004-04-01 14:21:00+01:00    4409.597087\n",
      "2004-04-01 14:28:00+01:00    4332.235735\n",
      "                                ...     \n",
      "2004-04-07 17:28:00+01:00     618.683881\n",
      "2004-04-07 17:35:00+01:00     618.683881\n",
      "2004-04-07 17:42:00+01:00     618.683881\n",
      "2004-04-07 17:49:00+01:00     618.683881\n",
      "2004-04-07 17:56:00+01:00     618.683881\n",
      "Freq: 420S, Name: total_solar_irradiance, Length: 1269, dtype: float64\n",
      "\n",
      "Indoor wall surface short wave radiation time series vector:\n",
      "\n",
      "Time\n",
      "2004-04-01 14:00:00+01:00    73.289702\n",
      "2004-04-01 14:07:00+01:00    72.068207\n",
      "2004-04-01 14:14:00+01:00    70.846712\n",
      "2004-04-01 14:21:00+01:00    69.625217\n",
      "2004-04-01 14:28:00+01:00    68.403722\n",
      "                               ...    \n",
      "2004-04-07 17:28:00+01:00     9.768693\n",
      "2004-04-07 17:35:00+01:00     9.768693\n",
      "2004-04-07 17:42:00+01:00     9.768693\n",
      "2004-04-07 17:49:00+01:00     9.768693\n",
      "2004-04-07 17:56:00+01:00     9.768693\n",
      "Freq: 420S, Name: total_solar_irradiance, Length: 1269, dtype: float64\n",
      "\n",
      "Auxiliary heat flow rate time series vector:\n",
      "\n",
      "Time\n",
      "2004-04-01 14:00:00+01:00    0.0\n",
      "2004-04-01 14:07:00+01:00    0.0\n",
      "2004-04-01 14:14:00+01:00    0.0\n",
      "2004-04-01 14:21:00+01:00    0.0\n",
      "2004-04-01 14:28:00+01:00    0.0\n",
      "                            ... \n",
      "2004-04-07 17:28:00+01:00    0.0\n",
      "2004-04-07 17:35:00+01:00    0.0\n",
      "2004-04-07 17:42:00+01:00    0.0\n",
      "2004-04-07 17:49:00+01:00    0.0\n",
      "2004-04-07 17:56:00+01:00    0.0\n",
      "Freq: 420S, Name: auxiliary_heat_flow_rate, Length: 1269, dtype: float64\n",
      "\n",
      "Window short wave radiation time series vector:\n",
      "\n",
      "Time\n",
      "2004-04-01 14:00:00+01:00    371.334492\n",
      "2004-04-01 14:07:00+01:00    365.145583\n",
      "2004-04-01 14:14:00+01:00    358.956675\n",
      "2004-04-01 14:21:00+01:00    352.767767\n",
      "2004-04-01 14:28:00+01:00    346.578859\n",
      "                                ...    \n",
      "2004-04-07 17:28:00+01:00     49.494710\n",
      "2004-04-07 17:35:00+01:00     49.494710\n",
      "2004-04-07 17:42:00+01:00     49.494710\n",
      "2004-04-07 17:49:00+01:00     49.494710\n",
      "2004-04-07 17:56:00+01:00     49.494710\n",
      "Freq: 420S, Name: total_solar_irradiance, Length: 1269, dtype: float64\n",
      "\n",
      "Input in time vector:\n",
      "                           adjacent_zone_temperature_setpoint  \\\n",
      "Time                                                            \n",
      "2004-04-01 14:00:00+01:00                                22.0   \n",
      "2004-04-01 14:07:00+01:00                                22.0   \n",
      "2004-04-01 14:14:00+01:00                                22.0   \n",
      "2004-04-01 14:21:00+01:00                                22.0   \n",
      "2004-04-01 14:28:00+01:00                                22.0   \n",
      "...                                                       ...   \n",
      "2004-04-07 17:28:00+01:00                                22.0   \n",
      "2004-04-07 17:35:00+01:00                                22.0   \n",
      "2004-04-07 17:42:00+01:00                                22.0   \n",
      "2004-04-07 17:49:00+01:00                                22.0   \n",
      "2004-04-07 17:56:00+01:00                                22.0   \n",
      "\n",
      "                           indoor_temperature_setpoint  \\\n",
      "Time                                                     \n",
      "2004-04-01 14:00:00+01:00                          0.0   \n",
      "2004-04-01 14:07:00+01:00                          0.0   \n",
      "2004-04-01 14:14:00+01:00                          0.0   \n",
      "2004-04-01 14:21:00+01:00                          0.0   \n",
      "2004-04-01 14:28:00+01:00                          0.0   \n",
      "...                                                ...   \n",
      "2004-04-07 17:28:00+01:00                          0.0   \n",
      "2004-04-07 17:35:00+01:00                          0.0   \n",
      "2004-04-07 17:42:00+01:00                          0.0   \n",
      "2004-04-07 17:49:00+01:00                          0.0   \n",
      "2004-04-07 17:56:00+01:00                          0.0   \n",
      "\n",
      "                           adjacent_zone_temperature_setpoint  \\\n",
      "Time                                                            \n",
      "2004-04-01 14:00:00+01:00                                22.0   \n",
      "2004-04-01 14:07:00+01:00                                22.0   \n",
      "2004-04-01 14:14:00+01:00                                22.0   \n",
      "2004-04-01 14:21:00+01:00                                22.0   \n",
      "2004-04-01 14:28:00+01:00                                22.0   \n",
      "...                                                       ...   \n",
      "2004-04-07 17:28:00+01:00                                22.0   \n",
      "2004-04-07 17:35:00+01:00                                22.0   \n",
      "2004-04-07 17:42:00+01:00                                22.0   \n",
      "2004-04-07 17:49:00+01:00                                22.0   \n",
      "2004-04-07 17:56:00+01:00                                22.0   \n",
      "\n",
      "                           indoor_temperature_setpoint  \\\n",
      "Time                                                     \n",
      "2004-04-01 14:00:00+01:00                          0.0   \n",
      "2004-04-01 14:07:00+01:00                          0.0   \n",
      "2004-04-01 14:14:00+01:00                          0.0   \n",
      "2004-04-01 14:21:00+01:00                          0.0   \n",
      "2004-04-01 14:28:00+01:00                          0.0   \n",
      "...                                                ...   \n",
      "2004-04-07 17:28:00+01:00                          0.0   \n",
      "2004-04-07 17:35:00+01:00                          0.0   \n",
      "2004-04-07 17:42:00+01:00                          0.0   \n",
      "2004-04-07 17:49:00+01:00                          0.0   \n",
      "2004-04-07 17:56:00+01:00                          0.0   \n",
      "\n",
      "                           indoor_temperature_setpoint  \\\n",
      "Time                                                     \n",
      "2004-04-01 14:00:00+01:00                          0.0   \n",
      "2004-04-01 14:07:00+01:00                          0.0   \n",
      "2004-04-01 14:14:00+01:00                          0.0   \n",
      "2004-04-01 14:21:00+01:00                          0.0   \n",
      "2004-04-01 14:28:00+01:00                          0.0   \n",
      "...                                                ...   \n",
      "2004-04-07 17:28:00+01:00                          0.0   \n",
      "2004-04-07 17:35:00+01:00                          0.0   \n",
      "2004-04-07 17:42:00+01:00                          0.0   \n",
      "2004-04-07 17:49:00+01:00                          0.0   \n",
      "2004-04-07 17:56:00+01:00                          0.0   \n",
      "\n",
      "                           indoor_temperature_setpoint         To         To  \\\n",
      "Time                                                                           \n",
      "2004-04-01 14:00:00+01:00                          0.0  11.100000  11.100000   \n",
      "2004-04-01 14:07:00+01:00                          0.0  11.071667  11.071667   \n",
      "2004-04-01 14:14:00+01:00                          0.0  11.043333  11.043333   \n",
      "2004-04-01 14:21:00+01:00                          0.0  11.015000  11.015000   \n",
      "2004-04-01 14:28:00+01:00                          0.0  10.986667  10.986667   \n",
      "...                                                ...        ...        ...   \n",
      "2004-04-07 17:28:00+01:00                          0.0   2.600000   2.600000   \n",
      "2004-04-07 17:35:00+01:00                          0.0   2.600000   2.600000   \n",
      "2004-04-07 17:42:00+01:00                          0.0   2.600000   2.600000   \n",
      "2004-04-07 17:49:00+01:00                          0.0   2.600000   2.600000   \n",
      "2004-04-07 17:56:00+01:00                          0.0   2.600000   2.600000   \n",
      "\n",
      "                           indoor_temperature_setpoint         To  \\\n",
      "Time                                                                \n",
      "2004-04-01 14:00:00+01:00                          0.0  11.100000   \n",
      "2004-04-01 14:07:00+01:00                          0.0  11.071667   \n",
      "2004-04-01 14:14:00+01:00                          0.0  11.043333   \n",
      "2004-04-01 14:21:00+01:00                          0.0  11.015000   \n",
      "2004-04-01 14:28:00+01:00                          0.0  10.986667   \n",
      "...                                                ...        ...   \n",
      "2004-04-07 17:28:00+01:00                          0.0   2.600000   \n",
      "2004-04-07 17:35:00+01:00                          0.0   2.600000   \n",
      "2004-04-07 17:42:00+01:00                          0.0   2.600000   \n",
      "2004-04-07 17:49:00+01:00                          0.0   2.600000   \n",
      "2004-04-07 17:56:00+01:00                          0.0   2.600000   \n",
      "\n",
      "                           total_solar_irradiance  total_solar_irradiance  \\\n",
      "Time                                                                        \n",
      "2004-04-01 14:00:00+01:00             4641.681144             4641.681144   \n",
      "2004-04-01 14:07:00+01:00             4564.319792             4564.319792   \n",
      "2004-04-01 14:14:00+01:00             4486.958440             4486.958440   \n",
      "2004-04-01 14:21:00+01:00             4409.597087             4409.597087   \n",
      "2004-04-01 14:28:00+01:00             4332.235735             4332.235735   \n",
      "...                                           ...                     ...   \n",
      "2004-04-07 17:28:00+01:00              618.683881              618.683881   \n",
      "2004-04-07 17:35:00+01:00              618.683881              618.683881   \n",
      "2004-04-07 17:42:00+01:00              618.683881              618.683881   \n",
      "2004-04-07 17:49:00+01:00              618.683881              618.683881   \n",
      "2004-04-07 17:56:00+01:00              618.683881              618.683881   \n",
      "\n",
      "                           total_solar_irradiance  total_solar_irradiance  \\\n",
      "Time                                                                        \n",
      "2004-04-01 14:00:00+01:00               73.289702               73.289702   \n",
      "2004-04-01 14:07:00+01:00               72.068207               72.068207   \n",
      "2004-04-01 14:14:00+01:00               70.846712               70.846712   \n",
      "2004-04-01 14:21:00+01:00               69.625217               69.625217   \n",
      "2004-04-01 14:28:00+01:00               68.403722               68.403722   \n",
      "...                                           ...                     ...   \n",
      "2004-04-07 17:28:00+01:00                9.768693                9.768693   \n",
      "2004-04-07 17:35:00+01:00                9.768693                9.768693   \n",
      "2004-04-07 17:42:00+01:00                9.768693                9.768693   \n",
      "2004-04-07 17:49:00+01:00                9.768693                9.768693   \n",
      "2004-04-07 17:56:00+01:00                9.768693                9.768693   \n",
      "\n",
      "                           total_solar_irradiance  \n",
      "Time                                               \n",
      "2004-04-01 14:00:00+01:00              371.334492  \n",
      "2004-04-01 14:07:00+01:00              365.145583  \n",
      "2004-04-01 14:14:00+01:00              358.956675  \n",
      "2004-04-01 14:21:00+01:00              352.767767  \n",
      "2004-04-01 14:28:00+01:00              346.578859  \n",
      "...                                           ...  \n",
      "2004-04-07 17:28:00+01:00               49.494710  \n",
      "2004-04-07 17:35:00+01:00               49.494710  \n",
      "2004-04-07 17:42:00+01:00               49.494710  \n",
      "2004-04-07 17:49:00+01:00               49.494710  \n",
      "2004-04-07 17:56:00+01:00               49.494710  \n",
      "\n",
      "[1269 rows x 15 columns]\n"
     ]
    }
   ],
   "source": [
    "outdoor_temperature_time_series_vector = data['To'] # T_o\n",
    "adjacent_zone_temperature_setpoint_time_series_vector = data['adjacent_zone_temperature_setpoint'] # T_a-sp\n",
    "indoor_temperature_setpoint_time_series_vector = data['indoor_temperature_setpoint'] # T_i-sp\n",
    "outdoor_wall_surface_short_wave_radiation_time_series_vector = (short_wave_white_smooth_surface_absortivity * wall_properties['Surface']['Outside_layer'] # phi_o \n",
    "                                                     * data['total_solar_irradiance'])\n",
    "indoor_wall_surface_short_wave_radiation_time_series_vector = (short_wave_reflective_blue_window_transmittance * short_wave_white_smooth_surface_absortivity # phi_i\n",
    "                                                               * wall_properties['Surface']['Window'] * data['total_solar_irradiance'])\n",
    "auxiliary_heat_flow_rate_time_series_vector = data['auxiliary_heat_flow_rate'] # Q_a\n",
    "window_short_wave_radiation_time_series_vector = (short_wave_reflective_blue_window_absortivity * wall_properties['Surface']['Window'] # phi_a\n",
    "                                                  * data['total_solar_irradiance'])\n",
    "\n",
    "input_in_time_vector = pd.concat([adjacent_zone_temperature_setpoint_time_series_vector, indoor_temperature_setpoint_time_series_vector, # u\n",
    "                                  adjacent_zone_temperature_setpoint_time_series_vector, indoor_temperature_setpoint_time_series_vector,\n",
    "                                  indoor_temperature_setpoint_time_series_vector, indoor_temperature_setpoint_time_series_vector,\n",
    "                                  outdoor_temperature_time_series_vector, outdoor_temperature_time_series_vector,\n",
    "                                  indoor_temperature_setpoint_time_series_vector, outdoor_temperature_time_series_vector,\n",
    "                                  outdoor_wall_surface_short_wave_radiation_time_series_vector, outdoor_wall_surface_short_wave_radiation_time_series_vector,\n",
    "                                  indoor_wall_surface_short_wave_radiation_time_series_vector, indoor_wall_surface_short_wave_radiation_time_series_vector,\n",
    "                                  window_short_wave_radiation_time_series_vector], axis=1)\n",
    "\n",
    "print('Outdoor temperature time series vector:')\n",
    "print()\n",
    "print(outdoor_temperature_time_series_vector)\n",
    "print()\n",
    "print('Adjacent zone temperature setpoint time series vector:')\n",
    "print()\n",
    "print(adjacent_zone_temperature_setpoint_time_series_vector)\n",
    "print()\n",
    "print('Indoor temperature setpoint time series vector:')\n",
    "print()\n",
    "print(indoor_temperature_setpoint_time_series_vector)\n",
    "print()\n",
    "print('Outdoor wall surface short wave radiation time series vector:')\n",
    "print()\n",
    "print(outdoor_wall_surface_short_wave_radiation_time_series_vector)\n",
    "print()\n",
    "print('Indoor wall surface short wave radiation time series vector:')\n",
    "print()\n",
    "print(indoor_wall_surface_short_wave_radiation_time_series_vector)\n",
    "print()\n",
    "print('Auxiliary heat flow rate time series vector:')\n",
    "print()\n",
    "print(auxiliary_heat_flow_rate_time_series_vector)\n",
    "print()\n",
    "print('Window short wave radiation time series vector:')\n",
    "print()\n",
    "print(window_short_wave_radiation_time_series_vector)\n",
    "print()\n",
    "print('Input in time vector:')\n",
    "print(input_in_time_vector)"
   ]
  },
  {
   "cell_type": "code",
   "execution_count": 41,
   "id": "346a388f-101c-401d-8600-eeb32946b0d2",
   "metadata": {
    "tags": []
   },
   "outputs": [
    {
     "name": "stdout",
     "output_type": "stream",
     "text": [
      "Outdoor temperature time series vector:\n",
      "\n",
      "(1269,)\n",
      "\n",
      "Adjacent zone temperature setpoint time series vector:\n",
      "\n",
      "(1269,)\n",
      "\n",
      "Indoor temperature setpoint time series vector:\n",
      "\n",
      "(1269,)\n",
      "\n",
      "Outdoor wall surface short wave radiation time series vector:\n",
      "\n",
      "(1269,)\n",
      "\n",
      "Indoor wall surface short wave radiation time series vector:\n",
      "\n",
      "(1269,)\n",
      "\n",
      "Auxiliary heat flow rate time series vector:\n",
      "\n",
      "(1269,)\n",
      "\n",
      "Window short wave radiation time series vector:\n",
      "\n",
      "(1269,)\n",
      "\n",
      "Input in time vector:\n",
      "(1269, 15)\n"
     ]
    }
   ],
   "source": [
    "print('Outdoor temperature time series vector:')\n",
    "print()\n",
    "print(outdoor_temperature_time_series_vector.shape)\n",
    "print()\n",
    "print('Adjacent zone temperature setpoint time series vector:')\n",
    "print()\n",
    "print(adjacent_zone_temperature_setpoint_time_series_vector.shape)\n",
    "print()\n",
    "print('Indoor temperature setpoint time series vector:')\n",
    "print()\n",
    "print(indoor_temperature_setpoint_time_series_vector.shape)\n",
    "print()\n",
    "print('Outdoor wall surface short wave radiation time series vector:')\n",
    "print()\n",
    "print(outdoor_wall_surface_short_wave_radiation_time_series_vector.shape)\n",
    "print()\n",
    "print('Indoor wall surface short wave radiation time series vector:')\n",
    "print()\n",
    "print(indoor_wall_surface_short_wave_radiation_time_series_vector.shape)\n",
    "print()\n",
    "print('Auxiliary heat flow rate time series vector:')\n",
    "print()\n",
    "print(auxiliary_heat_flow_rate_time_series_vector.shape)\n",
    "print()\n",
    "print('Window short wave radiation time series vector:')\n",
    "print()\n",
    "print(window_short_wave_radiation_time_series_vector.shape)\n",
    "print()\n",
    "print('Input in time vector:')\n",
    "print(input_in_time_vector.shape)"
   ]
  },
  {
   "cell_type": "markdown",
   "id": "95d371b1-e61b-4092-8a03-3c0052fa1f7e",
   "metadata": {},
   "source": [
    "##### Initial conditions"
   ]
  },
  {
   "cell_type": "code",
   "execution_count": 42,
   "id": "3428bbdd-d34a-4d93-8438-d1c2fe8c9279",
   "metadata": {},
   "outputs": [
    {
     "name": "stdout",
     "output_type": "stream",
     "text": [
      "Explicit Euler state variable matrix:\n",
      "\n",
      "[[20. 20. 20. ... 20. 20. 20.]\n",
      " [20. 20. 20. ... 20. 20. 20.]\n",
      " [20. 20. 20. ... 20. 20. 20.]\n",
      " [20. 20. 20. ... 20. 20. 20.]]\n"
     ]
    }
   ],
   "source": [
    "number_of_state_variables = state_matrix.shape[0] # n_s\n",
    "explicit_euler_state_variable_matrix = 20 * np.ones([number_of_state_variables, input_in_time_vector.shape[0]]) # theta_exp\n",
    "print('Explicit Euler state variable matrix:')\n",
    "print()\n",
    "print(explicit_euler_state_variable_matrix)"
   ]
  },
  {
   "cell_type": "markdown",
   "id": "a9f75273-a2d7-4bea-b30d-c8b1adeec56f",
   "metadata": {
    "tags": []
   },
   "source": [
    "##### Time integration"
   ]
  },
  {
   "cell_type": "code",
   "execution_count": 43,
   "id": "ed693fb7-0b19-455f-915f-f17c146e70b6",
   "metadata": {
    "tags": []
   },
   "outputs": [
    {
     "name": "stdout",
     "output_type": "stream",
     "text": [
      "(4, 4)\n",
      "()\n",
      "(4, 4)\n",
      "(4, 15)\n",
      "(1269, 15)\n",
      "\n",
      "                           adjacent_zone_temperature_setpoint  \\\n",
      "Time                                                            \n",
      "2004-04-01 14:00:00+01:00                                22.0   \n",
      "2004-04-01 14:07:00+01:00                                22.0   \n",
      "2004-04-01 14:14:00+01:00                                22.0   \n",
      "2004-04-01 14:21:00+01:00                                22.0   \n",
      "2004-04-01 14:28:00+01:00                                22.0   \n",
      "...                                                       ...   \n",
      "2004-04-07 17:28:00+01:00                                22.0   \n",
      "2004-04-07 17:35:00+01:00                                22.0   \n",
      "2004-04-07 17:42:00+01:00                                22.0   \n",
      "2004-04-07 17:49:00+01:00                                22.0   \n",
      "2004-04-07 17:56:00+01:00                                22.0   \n",
      "\n",
      "                           indoor_temperature_setpoint  \\\n",
      "Time                                                     \n",
      "2004-04-01 14:00:00+01:00                          0.0   \n",
      "2004-04-01 14:07:00+01:00                          0.0   \n",
      "2004-04-01 14:14:00+01:00                          0.0   \n",
      "2004-04-01 14:21:00+01:00                          0.0   \n",
      "2004-04-01 14:28:00+01:00                          0.0   \n",
      "...                                                ...   \n",
      "2004-04-07 17:28:00+01:00                          0.0   \n",
      "2004-04-07 17:35:00+01:00                          0.0   \n",
      "2004-04-07 17:42:00+01:00                          0.0   \n",
      "2004-04-07 17:49:00+01:00                          0.0   \n",
      "2004-04-07 17:56:00+01:00                          0.0   \n",
      "\n",
      "                           adjacent_zone_temperature_setpoint  \\\n",
      "Time                                                            \n",
      "2004-04-01 14:00:00+01:00                                22.0   \n",
      "2004-04-01 14:07:00+01:00                                22.0   \n",
      "2004-04-01 14:14:00+01:00                                22.0   \n",
      "2004-04-01 14:21:00+01:00                                22.0   \n",
      "2004-04-01 14:28:00+01:00                                22.0   \n",
      "...                                                       ...   \n",
      "2004-04-07 17:28:00+01:00                                22.0   \n",
      "2004-04-07 17:35:00+01:00                                22.0   \n",
      "2004-04-07 17:42:00+01:00                                22.0   \n",
      "2004-04-07 17:49:00+01:00                                22.0   \n",
      "2004-04-07 17:56:00+01:00                                22.0   \n",
      "\n",
      "                           indoor_temperature_setpoint  \\\n",
      "Time                                                     \n",
      "2004-04-01 14:00:00+01:00                          0.0   \n",
      "2004-04-01 14:07:00+01:00                          0.0   \n",
      "2004-04-01 14:14:00+01:00                          0.0   \n",
      "2004-04-01 14:21:00+01:00                          0.0   \n",
      "2004-04-01 14:28:00+01:00                          0.0   \n",
      "...                                                ...   \n",
      "2004-04-07 17:28:00+01:00                          0.0   \n",
      "2004-04-07 17:35:00+01:00                          0.0   \n",
      "2004-04-07 17:42:00+01:00                          0.0   \n",
      "2004-04-07 17:49:00+01:00                          0.0   \n",
      "2004-04-07 17:56:00+01:00                          0.0   \n",
      "\n",
      "                           indoor_temperature_setpoint  \\\n",
      "Time                                                     \n",
      "2004-04-01 14:00:00+01:00                          0.0   \n",
      "2004-04-01 14:07:00+01:00                          0.0   \n",
      "2004-04-01 14:14:00+01:00                          0.0   \n",
      "2004-04-01 14:21:00+01:00                          0.0   \n",
      "2004-04-01 14:28:00+01:00                          0.0   \n",
      "...                                                ...   \n",
      "2004-04-07 17:28:00+01:00                          0.0   \n",
      "2004-04-07 17:35:00+01:00                          0.0   \n",
      "2004-04-07 17:42:00+01:00                          0.0   \n",
      "2004-04-07 17:49:00+01:00                          0.0   \n",
      "2004-04-07 17:56:00+01:00                          0.0   \n",
      "\n",
      "                           indoor_temperature_setpoint         To         To  \\\n",
      "Time                                                                           \n",
      "2004-04-01 14:00:00+01:00                          0.0  11.100000  11.100000   \n",
      "2004-04-01 14:07:00+01:00                          0.0  11.071667  11.071667   \n",
      "2004-04-01 14:14:00+01:00                          0.0  11.043333  11.043333   \n",
      "2004-04-01 14:21:00+01:00                          0.0  11.015000  11.015000   \n",
      "2004-04-01 14:28:00+01:00                          0.0  10.986667  10.986667   \n",
      "...                                                ...        ...        ...   \n",
      "2004-04-07 17:28:00+01:00                          0.0   2.600000   2.600000   \n",
      "2004-04-07 17:35:00+01:00                          0.0   2.600000   2.600000   \n",
      "2004-04-07 17:42:00+01:00                          0.0   2.600000   2.600000   \n",
      "2004-04-07 17:49:00+01:00                          0.0   2.600000   2.600000   \n",
      "2004-04-07 17:56:00+01:00                          0.0   2.600000   2.600000   \n",
      "\n",
      "                           indoor_temperature_setpoint         To  \\\n",
      "Time                                                                \n",
      "2004-04-01 14:00:00+01:00                          0.0  11.100000   \n",
      "2004-04-01 14:07:00+01:00                          0.0  11.071667   \n",
      "2004-04-01 14:14:00+01:00                          0.0  11.043333   \n",
      "2004-04-01 14:21:00+01:00                          0.0  11.015000   \n",
      "2004-04-01 14:28:00+01:00                          0.0  10.986667   \n",
      "...                                                ...        ...   \n",
      "2004-04-07 17:28:00+01:00                          0.0   2.600000   \n",
      "2004-04-07 17:35:00+01:00                          0.0   2.600000   \n",
      "2004-04-07 17:42:00+01:00                          0.0   2.600000   \n",
      "2004-04-07 17:49:00+01:00                          0.0   2.600000   \n",
      "2004-04-07 17:56:00+01:00                          0.0   2.600000   \n",
      "\n",
      "                           total_solar_irradiance  total_solar_irradiance  \\\n",
      "Time                                                                        \n",
      "2004-04-01 14:00:00+01:00             4641.681144             4641.681144   \n",
      "2004-04-01 14:07:00+01:00             4564.319792             4564.319792   \n",
      "2004-04-01 14:14:00+01:00             4486.958440             4486.958440   \n",
      "2004-04-01 14:21:00+01:00             4409.597087             4409.597087   \n",
      "2004-04-01 14:28:00+01:00             4332.235735             4332.235735   \n",
      "...                                           ...                     ...   \n",
      "2004-04-07 17:28:00+01:00              618.683881              618.683881   \n",
      "2004-04-07 17:35:00+01:00              618.683881              618.683881   \n",
      "2004-04-07 17:42:00+01:00              618.683881              618.683881   \n",
      "2004-04-07 17:49:00+01:00              618.683881              618.683881   \n",
      "2004-04-07 17:56:00+01:00              618.683881              618.683881   \n",
      "\n",
      "                           total_solar_irradiance  total_solar_irradiance  \\\n",
      "Time                                                                        \n",
      "2004-04-01 14:00:00+01:00               73.289702               73.289702   \n",
      "2004-04-01 14:07:00+01:00               72.068207               72.068207   \n",
      "2004-04-01 14:14:00+01:00               70.846712               70.846712   \n",
      "2004-04-01 14:21:00+01:00               69.625217               69.625217   \n",
      "2004-04-01 14:28:00+01:00               68.403722               68.403722   \n",
      "...                                           ...                     ...   \n",
      "2004-04-07 17:28:00+01:00                9.768693                9.768693   \n",
      "2004-04-07 17:35:00+01:00                9.768693                9.768693   \n",
      "2004-04-07 17:42:00+01:00                9.768693                9.768693   \n",
      "2004-04-07 17:49:00+01:00                9.768693                9.768693   \n",
      "2004-04-07 17:56:00+01:00                9.768693                9.768693   \n",
      "\n",
      "                           total_solar_irradiance  \n",
      "Time                                               \n",
      "2004-04-01 14:00:00+01:00              371.334492  \n",
      "2004-04-01 14:07:00+01:00              365.145583  \n",
      "2004-04-01 14:14:00+01:00              358.956675  \n",
      "2004-04-01 14:21:00+01:00              352.767767  \n",
      "2004-04-01 14:28:00+01:00              346.578859  \n",
      "...                                           ...  \n",
      "2004-04-07 17:28:00+01:00               49.494710  \n",
      "2004-04-07 17:35:00+01:00               49.494710  \n",
      "2004-04-07 17:42:00+01:00               49.494710  \n",
      "2004-04-07 17:49:00+01:00               49.494710  \n",
      "2004-04-07 17:56:00+01:00               49.494710  \n",
      "\n",
      "[1269 rows x 15 columns]\n"
     ]
    }
   ],
   "source": [
    "print(identity_matrix.shape)\n",
    "print(time_step.shape)\n",
    "print(state_matrix.shape)\n",
    "print(input_matrix.shape)\n",
    "print(input_in_time_vector.shape)\n",
    "print()\n",
    "print(input_in_time_vector)"
   ]
  },
  {
   "cell_type": "code",
   "execution_count": 44,
   "id": "6dd045e0-2a7a-4946-9f37-ed341d9da11d",
   "metadata": {},
   "outputs": [
    {
     "data": {
      "image/png": "[encoded data removed]",
      "text/plain": [
       "<Figure size 640x480 with 2 Axes>"
      ]
     },
     "metadata": {},
     "output_type": "display_data"
    }
   ],
   "source": [
    "for k in range(input_in_time_vector.shape[0] - 1):\n",
    "    explicit_euler_state_variable_matrix[:, k + 1] = ((identity_matrix + time_step * state_matrix) @ explicit_euler_state_variable_matrix[:, k] # theta_s-k+1\n",
    "                                                       + time_step * input_matrix @ input_in_time_vector.iloc[k, :])\n",
    "\n",
    "explicit_euler_output_matrix = output_matrix @ explicit_euler_state_variable_matrix + feedforward_matrix @ input_in_time_vector.to_numpy().T # y_exp\n",
    "hvac_system_heat_flow_rate_output_matrix = proportional_gain * (data['indoor_temperature_setpoint'] - explicit_euler_output_matrix[0, :]) # q_hvac\n",
    "\n",
    "data['explicit_euler_output_0_matrix'] = explicit_euler_output_matrix[0].T # thetai_exp\n",
    "data['explicit_euler_output_1_matrix'] = explicit_euler_output_matrix[1].T\n",
    "data['explicit_euler_output_2_matrix'] = explicit_euler_output_matrix[2].T\n",
    "data['hvac_system_heat_flow_rate_output'] = hvac_system_heat_flow_rate_output_matrix.T # q_hvac\n",
    "\n",
    "fig, axs = mpl.subplots(2, 1)\n",
    "\n",
    "data[['To', 'explicit_euler_output_0_matrix']].plot(ax=axs[0],\n",
    "                            xticks=[],\n",
    "                            ylabel='Temperature, $θ$ / °C')\n",
    "axs[0].legend(['$θ_{outdoor}$', '$θ_{indoor}$'],\n",
    "              loc='upper right')\n",
    "\n",
    "data[['total_solar_irradiance', 'hvac_system_heat_flow_rate_output']].plot(ax=axs[1],\n",
    "                              ylabel='Heat rate, $q$ / W')\n",
    "axs[1].set(xlabel='Time')\n",
    "axs[1].legend(['$Φ_{total}$', '$q_{HVAC}$'],\n",
    "             loc='upper right')\n",
    "mpl.show()"
   ]
  },
  {
   "cell_type": "code",
   "execution_count": 45,
   "id": "f88c0e73-93e2-4fea-a349-df6f09ac9d78",
   "metadata": {},
   "outputs": [
    {
     "name": "stdout",
     "output_type": "stream",
     "text": [
      "Time\n",
      "2004-04-01 14:00:00+01:00    26.293528\n",
      "2004-04-01 14:07:00+01:00    26.454542\n",
      "2004-04-01 14:14:00+01:00    26.600949\n",
      "2004-04-01 14:21:00+01:00    26.733464\n",
      "2004-04-01 14:28:00+01:00    26.852757\n",
      "                               ...    \n",
      "2004-04-07 17:28:00+01:00    22.021897\n",
      "2004-04-07 17:35:00+01:00    22.012065\n",
      "2004-04-07 17:42:00+01:00    22.002521\n",
      "2004-04-07 17:49:00+01:00    21.993250\n",
      "2004-04-07 17:56:00+01:00    21.984238\n",
      "Freq: 420S, Name: explicit_euler_output_0_matrix, Length: 1269, dtype: float64\n",
      "Time\n",
      "2004-04-01 14:00:00+01:00    19.598552\n",
      "2004-04-01 14:07:00+01:00    19.625675\n",
      "2004-04-01 14:14:00+01:00    19.657404\n",
      "2004-04-01 14:21:00+01:00    19.693094\n",
      "2004-04-01 14:28:00+01:00    19.732230\n",
      "                               ...    \n",
      "2004-04-07 17:28:00+01:00    19.436530\n",
      "2004-04-07 17:35:00+01:00    19.432135\n",
      "2004-04-07 17:42:00+01:00    19.427621\n",
      "2004-04-07 17:49:00+01:00    19.423004\n",
      "2004-04-07 17:56:00+01:00    19.418296\n",
      "Freq: 420S, Name: explicit_euler_output_1_matrix, Length: 1269, dtype: float64\n",
      "Time\n",
      "2004-04-01 14:00:00+01:00    8.204562\n",
      "2004-04-01 14:07:00+01:00    4.018583\n",
      "2004-04-01 14:14:00+01:00    7.747441\n",
      "2004-04-01 14:21:00+01:00    4.324987\n",
      "2004-04-01 14:28:00+01:00    7.365383\n",
      "                               ...   \n",
      "2004-04-07 17:28:00+01:00    3.687708\n",
      "2004-04-07 17:35:00+01:00    3.685117\n",
      "2004-04-07 17:42:00+01:00    3.683638\n",
      "2004-04-07 17:49:00+01:00    3.681203\n",
      "2004-04-07 17:56:00+01:00    3.679680\n",
      "Freq: 420S, Name: explicit_euler_output_2_matrix, Length: 1269, dtype: float64\n"
     ]
    }
   ],
   "source": [
    "print(data['explicit_euler_output_0_matrix'])\n",
    "print(data['explicit_euler_output_1_matrix'])\n",
    "print(data['explicit_euler_output_2_matrix'])"
   ]
  },
  {
   "cell_type": "code",
   "execution_count": 46,
   "id": "a2a34c6a-893c-419f-a4d1-6abd287209d1",
   "metadata": {
    "tags": []
   },
   "outputs": [
    {
     "name": "stdout",
     "output_type": "stream",
     "text": [
      "[[26.29352824 26.45454184 26.60094887 ... 22.00252102 21.99324992\n",
      "  21.98423789]\n",
      " [19.59855198 19.62567467 19.65740363 ... 19.42762129 19.42300378\n",
      "  19.41829632]\n",
      " [ 8.20456222  4.01858265  7.74744113 ...  3.68363817  3.68120326\n",
      "   3.67967953]\n",
      " [ 7.2611465  -0.74842066  6.46901247 ...  1.89466285  1.89276449\n",
      "   1.89258472]\n",
      " [ 6.92166998  6.67745976  6.83197865 ...  4.15027608  4.14802598\n",
      "   4.14584805]]\n"
     ]
    }
   ],
   "source": [
    "print(explicit_euler_output_matrix)"
   ]
  },
  {
   "cell_type": "code",
   "execution_count": null,
   "id": "2ee8eaa6-e7ad-4601-babc-d66b4eccfc4d",
   "metadata": {},
   "outputs": [],
   "source": []
  }
 ],
 "metadata": {
  "kernelspec": {
   "display_name": "Python 3 (ipykernel)",
   "language": "python",
   "name": "python3"
  },
  "language_info": {
   "codemirror_mode": {
    "name": "ipython",
    "version": 3
   },
   "file_extension": ".py",
   "mimetype": "text/x-python",
   "name": "python",
   "nbconvert_exporter": "python",
   "pygments_lexer": "ipython3",
   "version": "3.11.5"
  },
  "toc-autonumbering": true,
  "toc-showcode": false,
  "toc-showmarkdowntxt": false,
  "toc-showtags": false
 },
 "nbformat": 4,
 "nbformat_minor": 5
}
